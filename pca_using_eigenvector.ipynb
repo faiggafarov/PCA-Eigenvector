{
  "cells": [
    {
      "cell_type": "markdown",
      "metadata": {
        "id": "view-in-github",
        "colab_type": "text"
      },
      "source": [
        "<a href=\"https://colab.research.google.com/github/faiggafarov/PCA-Eigenvector/blob/main/pca_using_eigenvector.ipynb\" target=\"_parent\"><img src=\"https://colab.research.google.com/assets/colab-badge.svg\" alt=\"Open In Colab\"/></a>"
      ]
    },
    {
      "cell_type": "markdown",
      "id": "armed-printing",
      "metadata": {
        "papermill": {
          "duration": 0.027865,
          "end_time": "2021-07-02T01:56:13.777448",
          "exception": false,
          "start_time": "2021-07-02T01:56:13.749583",
          "status": "completed"
        },
        "tags": [],
        "id": "armed-printing"
      },
      "source": [
        "# PCA : Principal Component Analysis\n",
        "\n",
        ">\n",
        "Principal Component Analysis (PCA) is a powerful technique often used in data analysis to simplify complex, high-dimensional datasets. It does this by reducing the number of variables, which makes the data easier to understand and interpret, while still preserving as much of the original information as possible. The core idea is to create new variables—called principal components—that are uncorrelated and capture the most variance in the dataset. These components are calculated through an ***eigenvalue/eigenvector*** problem, which essentially identifies the directions in the data where the most significant patterns or differences exist. PCA is particularly useful in areas like machine learning, image processing, and data visualization, where large datasets can overwhelm analysis. By focusing on the key components, it helps reveal the underlying structure of the data in a more accessible way."
      ]
    },
    {
      "cell_type": "markdown",
      "id": "taken-stranger",
      "metadata": {
        "papermill": {
          "duration": 0.026776,
          "end_time": "2021-07-02T01:56:13.883288",
          "exception": false,
          "start_time": "2021-07-02T01:56:13.856512",
          "status": "completed"
        },
        "tags": [],
        "id": "taken-stranger"
      },
      "source": [
        "**Eigen Vector Decomposition (EVD) - Eigen Values and Eigen Vectors**"
      ]
    },
    {
      "cell_type": "code",
      "execution_count": null,
      "id": "connected-wichita",
      "metadata": {
        "papermill": {
          "duration": 1.148876,
          "end_time": "2021-07-02T01:56:15.128276",
          "exception": false,
          "start_time": "2021-07-02T01:56:13.979400",
          "status": "completed"
        },
        "tags": [],
        "id": "connected-wichita"
      },
      "outputs": [],
      "source": [
        "import pandas as pd\n",
        "import numpy as np\n",
        "import matplotlib.pyplot as plt\n",
        "from sklearn.decomposition import PCA\n",
        "from sklearn.preprocessing import StandardScaler\n",
        "%matplotlib inline"
      ]
    },
    {
      "cell_type": "code",
      "execution_count": null,
      "id": "north-sailing",
      "metadata": {
        "papermill": {
          "duration": 0.759444,
          "end_time": "2021-07-02T01:56:15.970465",
          "exception": false,
          "start_time": "2021-07-02T01:56:15.211021",
          "status": "completed"
        },
        "tags": [],
        "colab": {
          "base_uri": "https://localhost:8080/"
        },
        "id": "north-sailing",
        "outputId": "1f62308c-4080-47f0-8efb-4333d54a0652"
      },
      "outputs": [
        {
          "output_type": "execute_result",
          "data": {
            "text/plain": [
              "Index(['Id', 'SepalLengthCm', 'SepalWidthCm', 'PetalLengthCm', 'PetalWidthCm',\n",
              "       'Species'],\n",
              "      dtype='object')"
            ]
          },
          "metadata": {},
          "execution_count": 30
        }
      ],
      "source": [
        "df = pd.read_csv('iris.csv')\n",
        "df.columns"
      ]
    },
    {
      "cell_type": "code",
      "source": [
        "df.columns=['Id', 'SepalLengthCm', 'SepalWidthCm', 'PetalLengthCm', 'PetalWidthCm', 'Class']"
      ],
      "metadata": {
        "id": "qHMiAHZLpkE7"
      },
      "id": "qHMiAHZLpkE7",
      "execution_count": null,
      "outputs": []
    },
    {
      "cell_type": "code",
      "source": [
        "df.head()"
      ],
      "metadata": {
        "colab": {
          "base_uri": "https://localhost:8080/",
          "height": 206
        },
        "id": "dJwzrfwsqcZZ",
        "outputId": "81903185-ac0e-4a1d-9423-33cd893967ce"
      },
      "id": "dJwzrfwsqcZZ",
      "execution_count": null,
      "outputs": [
        {
          "output_type": "execute_result",
          "data": {
            "text/plain": [
              "   Id  SepalLengthCm  SepalWidthCm  PetalLengthCm  PetalWidthCm        Class\n",
              "0   1            5.1           3.5            1.4           0.2  Iris-setosa\n",
              "1   2            4.9           3.0            1.4           0.2  Iris-setosa\n",
              "2   3            4.7           3.2            1.3           0.2  Iris-setosa\n",
              "3   4            4.6           3.1            1.5           0.2  Iris-setosa\n",
              "4   5            5.0           3.6            1.4           0.2  Iris-setosa"
            ],
            "text/html": [
              "\n",
              "  <div id=\"df-a73e97be-8afa-46fd-8ffd-49c131bd1c57\" class=\"colab-df-container\">\n",
              "    <div>\n",
              "<style scoped>\n",
              "    .dataframe tbody tr th:only-of-type {\n",
              "        vertical-align: middle;\n",
              "    }\n",
              "\n",
              "    .dataframe tbody tr th {\n",
              "        vertical-align: top;\n",
              "    }\n",
              "\n",
              "    .dataframe thead th {\n",
              "        text-align: right;\n",
              "    }\n",
              "</style>\n",
              "<table border=\"1\" class=\"dataframe\">\n",
              "  <thead>\n",
              "    <tr style=\"text-align: right;\">\n",
              "      <th></th>\n",
              "      <th>Id</th>\n",
              "      <th>SepalLengthCm</th>\n",
              "      <th>SepalWidthCm</th>\n",
              "      <th>PetalLengthCm</th>\n",
              "      <th>PetalWidthCm</th>\n",
              "      <th>Class</th>\n",
              "    </tr>\n",
              "  </thead>\n",
              "  <tbody>\n",
              "    <tr>\n",
              "      <th>0</th>\n",
              "      <td>1</td>\n",
              "      <td>5.1</td>\n",
              "      <td>3.5</td>\n",
              "      <td>1.4</td>\n",
              "      <td>0.2</td>\n",
              "      <td>Iris-setosa</td>\n",
              "    </tr>\n",
              "    <tr>\n",
              "      <th>1</th>\n",
              "      <td>2</td>\n",
              "      <td>4.9</td>\n",
              "      <td>3.0</td>\n",
              "      <td>1.4</td>\n",
              "      <td>0.2</td>\n",
              "      <td>Iris-setosa</td>\n",
              "    </tr>\n",
              "    <tr>\n",
              "      <th>2</th>\n",
              "      <td>3</td>\n",
              "      <td>4.7</td>\n",
              "      <td>3.2</td>\n",
              "      <td>1.3</td>\n",
              "      <td>0.2</td>\n",
              "      <td>Iris-setosa</td>\n",
              "    </tr>\n",
              "    <tr>\n",
              "      <th>3</th>\n",
              "      <td>4</td>\n",
              "      <td>4.6</td>\n",
              "      <td>3.1</td>\n",
              "      <td>1.5</td>\n",
              "      <td>0.2</td>\n",
              "      <td>Iris-setosa</td>\n",
              "    </tr>\n",
              "    <tr>\n",
              "      <th>4</th>\n",
              "      <td>5</td>\n",
              "      <td>5.0</td>\n",
              "      <td>3.6</td>\n",
              "      <td>1.4</td>\n",
              "      <td>0.2</td>\n",
              "      <td>Iris-setosa</td>\n",
              "    </tr>\n",
              "  </tbody>\n",
              "</table>\n",
              "</div>\n",
              "    <div class=\"colab-df-buttons\">\n",
              "\n",
              "  <div class=\"colab-df-container\">\n",
              "    <button class=\"colab-df-convert\" onclick=\"convertToInteractive('df-a73e97be-8afa-46fd-8ffd-49c131bd1c57')\"\n",
              "            title=\"Convert this dataframe to an interactive table.\"\n",
              "            style=\"display:none;\">\n",
              "\n",
              "  <svg xmlns=\"http://www.w3.org/2000/svg\" height=\"24px\" viewBox=\"0 -960 960 960\">\n",
              "    <path d=\"M120-120v-720h720v720H120Zm60-500h600v-160H180v160Zm220 220h160v-160H400v160Zm0 220h160v-160H400v160ZM180-400h160v-160H180v160Zm440 0h160v-160H620v160ZM180-180h160v-160H180v160Zm440 0h160v-160H620v160Z\"/>\n",
              "  </svg>\n",
              "    </button>\n",
              "\n",
              "  <style>\n",
              "    .colab-df-container {\n",
              "      display:flex;\n",
              "      gap: 12px;\n",
              "    }\n",
              "\n",
              "    .colab-df-convert {\n",
              "      background-color: #E8F0FE;\n",
              "      border: none;\n",
              "      border-radius: 50%;\n",
              "      cursor: pointer;\n",
              "      display: none;\n",
              "      fill: #1967D2;\n",
              "      height: 32px;\n",
              "      padding: 0 0 0 0;\n",
              "      width: 32px;\n",
              "    }\n",
              "\n",
              "    .colab-df-convert:hover {\n",
              "      background-color: #E2EBFA;\n",
              "      box-shadow: 0px 1px 2px rgba(60, 64, 67, 0.3), 0px 1px 3px 1px rgba(60, 64, 67, 0.15);\n",
              "      fill: #174EA6;\n",
              "    }\n",
              "\n",
              "    .colab-df-buttons div {\n",
              "      margin-bottom: 4px;\n",
              "    }\n",
              "\n",
              "    [theme=dark] .colab-df-convert {\n",
              "      background-color: #3B4455;\n",
              "      fill: #D2E3FC;\n",
              "    }\n",
              "\n",
              "    [theme=dark] .colab-df-convert:hover {\n",
              "      background-color: #434B5C;\n",
              "      box-shadow: 0px 1px 3px 1px rgba(0, 0, 0, 0.15);\n",
              "      filter: drop-shadow(0px 1px 2px rgba(0, 0, 0, 0.3));\n",
              "      fill: #FFFFFF;\n",
              "    }\n",
              "  </style>\n",
              "\n",
              "    <script>\n",
              "      const buttonEl =\n",
              "        document.querySelector('#df-a73e97be-8afa-46fd-8ffd-49c131bd1c57 button.colab-df-convert');\n",
              "      buttonEl.style.display =\n",
              "        google.colab.kernel.accessAllowed ? 'block' : 'none';\n",
              "\n",
              "      async function convertToInteractive(key) {\n",
              "        const element = document.querySelector('#df-a73e97be-8afa-46fd-8ffd-49c131bd1c57');\n",
              "        const dataTable =\n",
              "          await google.colab.kernel.invokeFunction('convertToInteractive',\n",
              "                                                    [key], {});\n",
              "        if (!dataTable) return;\n",
              "\n",
              "        const docLinkHtml = 'Like what you see? Visit the ' +\n",
              "          '<a target=\"_blank\" href=https://colab.research.google.com/notebooks/data_table.ipynb>data table notebook</a>'\n",
              "          + ' to learn more about interactive tables.';\n",
              "        element.innerHTML = '';\n",
              "        dataTable['output_type'] = 'display_data';\n",
              "        await google.colab.output.renderOutput(dataTable, element);\n",
              "        const docLink = document.createElement('div');\n",
              "        docLink.innerHTML = docLinkHtml;\n",
              "        element.appendChild(docLink);\n",
              "      }\n",
              "    </script>\n",
              "  </div>\n",
              "\n",
              "\n",
              "<div id=\"df-18972f93-62c3-471b-b54f-e71b0f43c751\">\n",
              "  <button class=\"colab-df-quickchart\" onclick=\"quickchart('df-18972f93-62c3-471b-b54f-e71b0f43c751')\"\n",
              "            title=\"Suggest charts\"\n",
              "            style=\"display:none;\">\n",
              "\n",
              "<svg xmlns=\"http://www.w3.org/2000/svg\" height=\"24px\"viewBox=\"0 0 24 24\"\n",
              "     width=\"24px\">\n",
              "    <g>\n",
              "        <path d=\"M19 3H5c-1.1 0-2 .9-2 2v14c0 1.1.9 2 2 2h14c1.1 0 2-.9 2-2V5c0-1.1-.9-2-2-2zM9 17H7v-7h2v7zm4 0h-2V7h2v10zm4 0h-2v-4h2v4z\"/>\n",
              "    </g>\n",
              "</svg>\n",
              "  </button>\n",
              "\n",
              "<style>\n",
              "  .colab-df-quickchart {\n",
              "      --bg-color: #E8F0FE;\n",
              "      --fill-color: #1967D2;\n",
              "      --hover-bg-color: #E2EBFA;\n",
              "      --hover-fill-color: #174EA6;\n",
              "      --disabled-fill-color: #AAA;\n",
              "      --disabled-bg-color: #DDD;\n",
              "  }\n",
              "\n",
              "  [theme=dark] .colab-df-quickchart {\n",
              "      --bg-color: #3B4455;\n",
              "      --fill-color: #D2E3FC;\n",
              "      --hover-bg-color: #434B5C;\n",
              "      --hover-fill-color: #FFFFFF;\n",
              "      --disabled-bg-color: #3B4455;\n",
              "      --disabled-fill-color: #666;\n",
              "  }\n",
              "\n",
              "  .colab-df-quickchart {\n",
              "    background-color: var(--bg-color);\n",
              "    border: none;\n",
              "    border-radius: 50%;\n",
              "    cursor: pointer;\n",
              "    display: none;\n",
              "    fill: var(--fill-color);\n",
              "    height: 32px;\n",
              "    padding: 0;\n",
              "    width: 32px;\n",
              "  }\n",
              "\n",
              "  .colab-df-quickchart:hover {\n",
              "    background-color: var(--hover-bg-color);\n",
              "    box-shadow: 0 1px 2px rgba(60, 64, 67, 0.3), 0 1px 3px 1px rgba(60, 64, 67, 0.15);\n",
              "    fill: var(--button-hover-fill-color);\n",
              "  }\n",
              "\n",
              "  .colab-df-quickchart-complete:disabled,\n",
              "  .colab-df-quickchart-complete:disabled:hover {\n",
              "    background-color: var(--disabled-bg-color);\n",
              "    fill: var(--disabled-fill-color);\n",
              "    box-shadow: none;\n",
              "  }\n",
              "\n",
              "  .colab-df-spinner {\n",
              "    border: 2px solid var(--fill-color);\n",
              "    border-color: transparent;\n",
              "    border-bottom-color: var(--fill-color);\n",
              "    animation:\n",
              "      spin 1s steps(1) infinite;\n",
              "  }\n",
              "\n",
              "  @keyframes spin {\n",
              "    0% {\n",
              "      border-color: transparent;\n",
              "      border-bottom-color: var(--fill-color);\n",
              "      border-left-color: var(--fill-color);\n",
              "    }\n",
              "    20% {\n",
              "      border-color: transparent;\n",
              "      border-left-color: var(--fill-color);\n",
              "      border-top-color: var(--fill-color);\n",
              "    }\n",
              "    30% {\n",
              "      border-color: transparent;\n",
              "      border-left-color: var(--fill-color);\n",
              "      border-top-color: var(--fill-color);\n",
              "      border-right-color: var(--fill-color);\n",
              "    }\n",
              "    40% {\n",
              "      border-color: transparent;\n",
              "      border-right-color: var(--fill-color);\n",
              "      border-top-color: var(--fill-color);\n",
              "    }\n",
              "    60% {\n",
              "      border-color: transparent;\n",
              "      border-right-color: var(--fill-color);\n",
              "    }\n",
              "    80% {\n",
              "      border-color: transparent;\n",
              "      border-right-color: var(--fill-color);\n",
              "      border-bottom-color: var(--fill-color);\n",
              "    }\n",
              "    90% {\n",
              "      border-color: transparent;\n",
              "      border-bottom-color: var(--fill-color);\n",
              "    }\n",
              "  }\n",
              "</style>\n",
              "\n",
              "  <script>\n",
              "    async function quickchart(key) {\n",
              "      const quickchartButtonEl =\n",
              "        document.querySelector('#' + key + ' button');\n",
              "      quickchartButtonEl.disabled = true;  // To prevent multiple clicks.\n",
              "      quickchartButtonEl.classList.add('colab-df-spinner');\n",
              "      try {\n",
              "        const charts = await google.colab.kernel.invokeFunction(\n",
              "            'suggestCharts', [key], {});\n",
              "      } catch (error) {\n",
              "        console.error('Error during call to suggestCharts:', error);\n",
              "      }\n",
              "      quickchartButtonEl.classList.remove('colab-df-spinner');\n",
              "      quickchartButtonEl.classList.add('colab-df-quickchart-complete');\n",
              "    }\n",
              "    (() => {\n",
              "      let quickchartButtonEl =\n",
              "        document.querySelector('#df-18972f93-62c3-471b-b54f-e71b0f43c751 button');\n",
              "      quickchartButtonEl.style.display =\n",
              "        google.colab.kernel.accessAllowed ? 'block' : 'none';\n",
              "    })();\n",
              "  </script>\n",
              "</div>\n",
              "\n",
              "    </div>\n",
              "  </div>\n"
            ],
            "application/vnd.google.colaboratory.intrinsic+json": {
              "type": "dataframe",
              "variable_name": "df",
              "summary": "{\n  \"name\": \"df\",\n  \"rows\": 150,\n  \"fields\": [\n    {\n      \"column\": \"Id\",\n      \"properties\": {\n        \"dtype\": \"number\",\n        \"std\": 43,\n        \"min\": 1,\n        \"max\": 150,\n        \"num_unique_values\": 150,\n        \"samples\": [\n          74,\n          19,\n          119\n        ],\n        \"semantic_type\": \"\",\n        \"description\": \"\"\n      }\n    },\n    {\n      \"column\": \"SepalLengthCm\",\n      \"properties\": {\n        \"dtype\": \"number\",\n        \"std\": 0.8280661279778629,\n        \"min\": 4.3,\n        \"max\": 7.9,\n        \"num_unique_values\": 35,\n        \"samples\": [\n          6.2,\n          4.5,\n          5.6\n        ],\n        \"semantic_type\": \"\",\n        \"description\": \"\"\n      }\n    },\n    {\n      \"column\": \"SepalWidthCm\",\n      \"properties\": {\n        \"dtype\": \"number\",\n        \"std\": 0.4335943113621737,\n        \"min\": 2.0,\n        \"max\": 4.4,\n        \"num_unique_values\": 23,\n        \"samples\": [\n          2.3,\n          4.0,\n          3.5\n        ],\n        \"semantic_type\": \"\",\n        \"description\": \"\"\n      }\n    },\n    {\n      \"column\": \"PetalLengthCm\",\n      \"properties\": {\n        \"dtype\": \"number\",\n        \"std\": 1.7644204199522617,\n        \"min\": 1.0,\n        \"max\": 6.9,\n        \"num_unique_values\": 43,\n        \"samples\": [\n          6.7,\n          3.8,\n          3.7\n        ],\n        \"semantic_type\": \"\",\n        \"description\": \"\"\n      }\n    },\n    {\n      \"column\": \"PetalWidthCm\",\n      \"properties\": {\n        \"dtype\": \"number\",\n        \"std\": 0.7631607417008414,\n        \"min\": 0.1,\n        \"max\": 2.5,\n        \"num_unique_values\": 22,\n        \"samples\": [\n          0.2,\n          1.2,\n          1.3\n        ],\n        \"semantic_type\": \"\",\n        \"description\": \"\"\n      }\n    },\n    {\n      \"column\": \"Class\",\n      \"properties\": {\n        \"dtype\": \"category\",\n        \"num_unique_values\": 3,\n        \"samples\": [\n          \"Iris-setosa\",\n          \"Iris-versicolor\",\n          \"Iris-virginica\"\n        ],\n        \"semantic_type\": \"\",\n        \"description\": \"\"\n      }\n    }\n  ]\n}"
            }
          },
          "metadata": {},
          "execution_count": 36
        }
      ]
    },
    {
      "cell_type": "markdown",
      "source": [
        "**Scatter Plot**"
      ],
      "metadata": {
        "id": "FJGlnbW8nj0F"
      },
      "id": "FJGlnbW8nj0F"
    },
    {
      "cell_type": "code",
      "source": [
        "df.Class.unique()"
      ],
      "metadata": {
        "colab": {
          "base_uri": "https://localhost:8080/"
        },
        "id": "RzNz-wvZm1Cu",
        "outputId": "15220508-3bc3-40eb-cfe7-e31bf042891d"
      },
      "id": "RzNz-wvZm1Cu",
      "execution_count": null,
      "outputs": [
        {
          "output_type": "execute_result",
          "data": {
            "text/plain": [
              "array(['Iris-setosa', 'Iris-versicolor', 'Iris-virginica'], dtype=object)"
            ]
          },
          "metadata": {},
          "execution_count": 39
        }
      ]
    },
    {
      "cell_type": "code",
      "source": [
        "df_setosa = df[df.Class == 'Iris-setosa']\n",
        "df_versicolor = df[df.Class == 'Iris-versicolor']\n",
        "df_virginica = df[df.Class == 'Iris-virginica']"
      ],
      "metadata": {
        "id": "-KlvlDptn3Rb"
      },
      "id": "-KlvlDptn3Rb",
      "execution_count": null,
      "outputs": []
    },
    {
      "cell_type": "code",
      "source": [
        "plt.figure(figsize = (6,2))\n",
        "plt.scatter(df_setosa[\"SepalLengthCm\"], df_setosa[\"PetalLengthCm\"], color = \"black\", s = 15, alpha = 0.7, label = \"data_setosa\")\n",
        "plt.scatter(df_versicolor[\"SepalLengthCm\"], df_versicolor[\"PetalLengthCm\"], color = \"red\", s = 15, alpha = 0.7, label = \"data_versicolor\")\n",
        "plt.scatter(df_virginica[\"SepalLengthCm\"], df_virginica[\"PetalLengthCm\"], color = \"blue\", s = 15, alpha = 0.7, label = \"data_virginica\")\n",
        "plt.title(\"Iris Flower\")\n",
        "plt.xlabel(\"SepalLengthCm\")\n",
        "plt.ylabel(\"PetalLengthCm\")\n",
        "plt.grid(True)\n",
        "plt.legend()\n",
        "plt.show()"
      ],
      "metadata": {
        "colab": {
          "base_uri": "https://localhost:8080/",
          "height": 256
        },
        "id": "8qsI81UWoAMf",
        "outputId": "20233366-b2d3-4d67-d4e3-be4e97281ac9"
      },
      "id": "8qsI81UWoAMf",
      "execution_count": null,
      "outputs": [
        {
          "output_type": "display_data",
          "data": {
            "text/plain": [
              "<Figure size 600x200 with 1 Axes>"
            ],
            "image/png": "[encoded data removed]"
          },
          "metadata": {}
        }
      ]
    },
    {
      "cell_type": "code",
      "execution_count": null,
      "id": "smart-techno",
      "metadata": {
        "papermill": {
          "duration": 0.041038,
          "end_time": "2021-07-02T01:56:16.038078",
          "exception": false,
          "start_time": "2021-07-02T01:56:15.997040",
          "status": "completed"
        },
        "tags": [],
        "colab": {
          "base_uri": "https://localhost:8080/"
        },
        "id": "smart-techno",
        "outputId": "0660d898-bdde-45f6-eabb-0e6200efebd8"
      },
      "outputs": [
        {
          "output_type": "stream",
          "name": "stdout",
          "text": [
            "False\n"
          ]
        }
      ],
      "source": [
        "print(df.isnull().values.any())"
      ]
    },
    {
      "cell_type": "code",
      "execution_count": null,
      "id": "artificial-maple",
      "metadata": {
        "papermill": {
          "duration": 0.06079,
          "end_time": "2021-07-02T01:56:16.126588",
          "exception": false,
          "start_time": "2021-07-02T01:56:16.065798",
          "status": "completed"
        },
        "tags": [],
        "colab": {
          "base_uri": "https://localhost:8080/",
          "height": 206
        },
        "id": "artificial-maple",
        "outputId": "3036af23-3fc5-4733-dc9f-fc337d34f887"
      },
      "outputs": [
        {
          "output_type": "execute_result",
          "data": {
            "text/plain": [
              "      Id  SepalLengthCm  SepalWidthCm  PetalLengthCm  PetalWidthCm  \\\n",
              "145  146            6.7           3.0            5.2           2.3   \n",
              "146  147            6.3           2.5            5.0           1.9   \n",
              "147  148            6.5           3.0            5.2           2.0   \n",
              "148  149            6.2           3.4            5.4           2.3   \n",
              "149  150            5.9           3.0            5.1           1.8   \n",
              "\n",
              "              Class  \n",
              "145  Iris-virginica  \n",
              "146  Iris-virginica  \n",
              "147  Iris-virginica  \n",
              "148  Iris-virginica  \n",
              "149  Iris-virginica  "
            ],
            "text/html": [
              "\n",
              "  <div id=\"df-f4fd813f-6b5e-40b6-830f-ec17636c0db8\" class=\"colab-df-container\">\n",
              "    <div>\n",
              "<style scoped>\n",
              "    .dataframe tbody tr th:only-of-type {\n",
              "        vertical-align: middle;\n",
              "    }\n",
              "\n",
              "    .dataframe tbody tr th {\n",
              "        vertical-align: top;\n",
              "    }\n",
              "\n",
              "    .dataframe thead th {\n",
              "        text-align: right;\n",
              "    }\n",
              "</style>\n",
              "<table border=\"1\" class=\"dataframe\">\n",
              "  <thead>\n",
              "    <tr style=\"text-align: right;\">\n",
              "      <th></th>\n",
              "      <th>Id</th>\n",
              "      <th>SepalLengthCm</th>\n",
              "      <th>SepalWidthCm</th>\n",
              "      <th>PetalLengthCm</th>\n",
              "      <th>PetalWidthCm</th>\n",
              "      <th>Class</th>\n",
              "    </tr>\n",
              "  </thead>\n",
              "  <tbody>\n",
              "    <tr>\n",
              "      <th>145</th>\n",
              "      <td>146</td>\n",
              "      <td>6.7</td>\n",
              "      <td>3.0</td>\n",
              "      <td>5.2</td>\n",
              "      <td>2.3</td>\n",
              "      <td>Iris-virginica</td>\n",
              "    </tr>\n",
              "    <tr>\n",
              "      <th>146</th>\n",
              "      <td>147</td>\n",
              "      <td>6.3</td>\n",
              "      <td>2.5</td>\n",
              "      <td>5.0</td>\n",
              "      <td>1.9</td>\n",
              "      <td>Iris-virginica</td>\n",
              "    </tr>\n",
              "    <tr>\n",
              "      <th>147</th>\n",
              "      <td>148</td>\n",
              "      <td>6.5</td>\n",
              "      <td>3.0</td>\n",
              "      <td>5.2</td>\n",
              "      <td>2.0</td>\n",
              "      <td>Iris-virginica</td>\n",
              "    </tr>\n",
              "    <tr>\n",
              "      <th>148</th>\n",
              "      <td>149</td>\n",
              "      <td>6.2</td>\n",
              "      <td>3.4</td>\n",
              "      <td>5.4</td>\n",
              "      <td>2.3</td>\n",
              "      <td>Iris-virginica</td>\n",
              "    </tr>\n",
              "    <tr>\n",
              "      <th>149</th>\n",
              "      <td>150</td>\n",
              "      <td>5.9</td>\n",
              "      <td>3.0</td>\n",
              "      <td>5.1</td>\n",
              "      <td>1.8</td>\n",
              "      <td>Iris-virginica</td>\n",
              "    </tr>\n",
              "  </tbody>\n",
              "</table>\n",
              "</div>\n",
              "    <div class=\"colab-df-buttons\">\n",
              "\n",
              "  <div class=\"colab-df-container\">\n",
              "    <button class=\"colab-df-convert\" onclick=\"convertToInteractive('df-f4fd813f-6b5e-40b6-830f-ec17636c0db8')\"\n",
              "            title=\"Convert this dataframe to an interactive table.\"\n",
              "            style=\"display:none;\">\n",
              "\n",
              "  <svg xmlns=\"http://www.w3.org/2000/svg\" height=\"24px\" viewBox=\"0 -960 960 960\">\n",
              "    <path d=\"M120-120v-720h720v720H120Zm60-500h600v-160H180v160Zm220 220h160v-160H400v160Zm0 220h160v-160H400v160ZM180-400h160v-160H180v160Zm440 0h160v-160H620v160ZM180-180h160v-160H180v160Zm440 0h160v-160H620v160Z\"/>\n",
              "  </svg>\n",
              "    </button>\n",
              "\n",
              "  <style>\n",
              "    .colab-df-container {\n",
              "      display:flex;\n",
              "      gap: 12px;\n",
              "    }\n",
              "\n",
              "    .colab-df-convert {\n",
              "      background-color: #E8F0FE;\n",
              "      border: none;\n",
              "      border-radius: 50%;\n",
              "      cursor: pointer;\n",
              "      display: none;\n",
              "      fill: #1967D2;\n",
              "      height: 32px;\n",
              "      padding: 0 0 0 0;\n",
              "      width: 32px;\n",
              "    }\n",
              "\n",
              "    .colab-df-convert:hover {\n",
              "      background-color: #E2EBFA;\n",
              "      box-shadow: 0px 1px 2px rgba(60, 64, 67, 0.3), 0px 1px 3px 1px rgba(60, 64, 67, 0.15);\n",
              "      fill: #174EA6;\n",
              "    }\n",
              "\n",
              "    .colab-df-buttons div {\n",
              "      margin-bottom: 4px;\n",
              "    }\n",
              "\n",
              "    [theme=dark] .colab-df-convert {\n",
              "      background-color: #3B4455;\n",
              "      fill: #D2E3FC;\n",
              "    }\n",
              "\n",
              "    [theme=dark] .colab-df-convert:hover {\n",
              "      background-color: #434B5C;\n",
              "      box-shadow: 0px 1px 3px 1px rgba(0, 0, 0, 0.15);\n",
              "      filter: drop-shadow(0px 1px 2px rgba(0, 0, 0, 0.3));\n",
              "      fill: #FFFFFF;\n",
              "    }\n",
              "  </style>\n",
              "\n",
              "    <script>\n",
              "      const buttonEl =\n",
              "        document.querySelector('#df-f4fd813f-6b5e-40b6-830f-ec17636c0db8 button.colab-df-convert');\n",
              "      buttonEl.style.display =\n",
              "        google.colab.kernel.accessAllowed ? 'block' : 'none';\n",
              "\n",
              "      async function convertToInteractive(key) {\n",
              "        const element = document.querySelector('#df-f4fd813f-6b5e-40b6-830f-ec17636c0db8');\n",
              "        const dataTable =\n",
              "          await google.colab.kernel.invokeFunction('convertToInteractive',\n",
              "                                                    [key], {});\n",
              "        if (!dataTable) return;\n",
              "\n",
              "        const docLinkHtml = 'Like what you see? Visit the ' +\n",
              "          '<a target=\"_blank\" href=https://colab.research.google.com/notebooks/data_table.ipynb>data table notebook</a>'\n",
              "          + ' to learn more about interactive tables.';\n",
              "        element.innerHTML = '';\n",
              "        dataTable['output_type'] = 'display_data';\n",
              "        await google.colab.output.renderOutput(dataTable, element);\n",
              "        const docLink = document.createElement('div');\n",
              "        docLink.innerHTML = docLinkHtml;\n",
              "        element.appendChild(docLink);\n",
              "      }\n",
              "    </script>\n",
              "  </div>\n",
              "\n",
              "\n",
              "<div id=\"df-7be0d795-3003-44b5-9638-d62779349351\">\n",
              "  <button class=\"colab-df-quickchart\" onclick=\"quickchart('df-7be0d795-3003-44b5-9638-d62779349351')\"\n",
              "            title=\"Suggest charts\"\n",
              "            style=\"display:none;\">\n",
              "\n",
              "<svg xmlns=\"http://www.w3.org/2000/svg\" height=\"24px\"viewBox=\"0 0 24 24\"\n",
              "     width=\"24px\">\n",
              "    <g>\n",
              "        <path d=\"M19 3H5c-1.1 0-2 .9-2 2v14c0 1.1.9 2 2 2h14c1.1 0 2-.9 2-2V5c0-1.1-.9-2-2-2zM9 17H7v-7h2v7zm4 0h-2V7h2v10zm4 0h-2v-4h2v4z\"/>\n",
              "    </g>\n",
              "</svg>\n",
              "  </button>\n",
              "\n",
              "<style>\n",
              "  .colab-df-quickchart {\n",
              "      --bg-color: #E8F0FE;\n",
              "      --fill-color: #1967D2;\n",
              "      --hover-bg-color: #E2EBFA;\n",
              "      --hover-fill-color: #174EA6;\n",
              "      --disabled-fill-color: #AAA;\n",
              "      --disabled-bg-color: #DDD;\n",
              "  }\n",
              "\n",
              "  [theme=dark] .colab-df-quickchart {\n",
              "      --bg-color: #3B4455;\n",
              "      --fill-color: #D2E3FC;\n",
              "      --hover-bg-color: #434B5C;\n",
              "      --hover-fill-color: #FFFFFF;\n",
              "      --disabled-bg-color: #3B4455;\n",
              "      --disabled-fill-color: #666;\n",
              "  }\n",
              "\n",
              "  .colab-df-quickchart {\n",
              "    background-color: var(--bg-color);\n",
              "    border: none;\n",
              "    border-radius: 50%;\n",
              "    cursor: pointer;\n",
              "    display: none;\n",
              "    fill: var(--fill-color);\n",
              "    height: 32px;\n",
              "    padding: 0;\n",
              "    width: 32px;\n",
              "  }\n",
              "\n",
              "  .colab-df-quickchart:hover {\n",
              "    background-color: var(--hover-bg-color);\n",
              "    box-shadow: 0 1px 2px rgba(60, 64, 67, 0.3), 0 1px 3px 1px rgba(60, 64, 67, 0.15);\n",
              "    fill: var(--button-hover-fill-color);\n",
              "  }\n",
              "\n",
              "  .colab-df-quickchart-complete:disabled,\n",
              "  .colab-df-quickchart-complete:disabled:hover {\n",
              "    background-color: var(--disabled-bg-color);\n",
              "    fill: var(--disabled-fill-color);\n",
              "    box-shadow: none;\n",
              "  }\n",
              "\n",
              "  .colab-df-spinner {\n",
              "    border: 2px solid var(--fill-color);\n",
              "    border-color: transparent;\n",
              "    border-bottom-color: var(--fill-color);\n",
              "    animation:\n",
              "      spin 1s steps(1) infinite;\n",
              "  }\n",
              "\n",
              "  @keyframes spin {\n",
              "    0% {\n",
              "      border-color: transparent;\n",
              "      border-bottom-color: var(--fill-color);\n",
              "      border-left-color: var(--fill-color);\n",
              "    }\n",
              "    20% {\n",
              "      border-color: transparent;\n",
              "      border-left-color: var(--fill-color);\n",
              "      border-top-color: var(--fill-color);\n",
              "    }\n",
              "    30% {\n",
              "      border-color: transparent;\n",
              "      border-left-color: var(--fill-color);\n",
              "      border-top-color: var(--fill-color);\n",
              "      border-right-color: var(--fill-color);\n",
              "    }\n",
              "    40% {\n",
              "      border-color: transparent;\n",
              "      border-right-color: var(--fill-color);\n",
              "      border-top-color: var(--fill-color);\n",
              "    }\n",
              "    60% {\n",
              "      border-color: transparent;\n",
              "      border-right-color: var(--fill-color);\n",
              "    }\n",
              "    80% {\n",
              "      border-color: transparent;\n",
              "      border-right-color: var(--fill-color);\n",
              "      border-bottom-color: var(--fill-color);\n",
              "    }\n",
              "    90% {\n",
              "      border-color: transparent;\n",
              "      border-bottom-color: var(--fill-color);\n",
              "    }\n",
              "  }\n",
              "</style>\n",
              "\n",
              "  <script>\n",
              "    async function quickchart(key) {\n",
              "      const quickchartButtonEl =\n",
              "        document.querySelector('#' + key + ' button');\n",
              "      quickchartButtonEl.disabled = true;  // To prevent multiple clicks.\n",
              "      quickchartButtonEl.classList.add('colab-df-spinner');\n",
              "      try {\n",
              "        const charts = await google.colab.kernel.invokeFunction(\n",
              "            'suggestCharts', [key], {});\n",
              "      } catch (error) {\n",
              "        console.error('Error during call to suggestCharts:', error);\n",
              "      }\n",
              "      quickchartButtonEl.classList.remove('colab-df-spinner');\n",
              "      quickchartButtonEl.classList.add('colab-df-quickchart-complete');\n",
              "    }\n",
              "    (() => {\n",
              "      let quickchartButtonEl =\n",
              "        document.querySelector('#df-7be0d795-3003-44b5-9638-d62779349351 button');\n",
              "      quickchartButtonEl.style.display =\n",
              "        google.colab.kernel.accessAllowed ? 'block' : 'none';\n",
              "    })();\n",
              "  </script>\n",
              "</div>\n",
              "\n",
              "    </div>\n",
              "  </div>\n"
            ],
            "application/vnd.google.colaboratory.intrinsic+json": {
              "type": "dataframe",
              "summary": "{\n  \"name\": \"df\",\n  \"rows\": 5,\n  \"fields\": [\n    {\n      \"column\": \"Id\",\n      \"properties\": {\n        \"dtype\": \"number\",\n        \"std\": 1,\n        \"min\": 146,\n        \"max\": 150,\n        \"num_unique_values\": 5,\n        \"samples\": [\n          147,\n          150,\n          148\n        ],\n        \"semantic_type\": \"\",\n        \"description\": \"\"\n      }\n    },\n    {\n      \"column\": \"SepalLengthCm\",\n      \"properties\": {\n        \"dtype\": \"number\",\n        \"std\": 0.30331501776206193,\n        \"min\": 5.9,\n        \"max\": 6.7,\n        \"num_unique_values\": 5,\n        \"samples\": [\n          6.3,\n          5.9,\n          6.5\n        ],\n        \"semantic_type\": \"\",\n        \"description\": \"\"\n      }\n    },\n    {\n      \"column\": \"SepalWidthCm\",\n      \"properties\": {\n        \"dtype\": \"number\",\n        \"std\": 0.31937438845342625,\n        \"min\": 2.5,\n        \"max\": 3.4,\n        \"num_unique_values\": 3,\n        \"samples\": [\n          3.0,\n          2.5,\n          3.4\n        ],\n        \"semantic_type\": \"\",\n        \"description\": \"\"\n      }\n    },\n    {\n      \"column\": \"PetalLengthCm\",\n      \"properties\": {\n        \"dtype\": \"number\",\n        \"std\": 0.14832396974191348,\n        \"min\": 5.0,\n        \"max\": 5.4,\n        \"num_unique_values\": 4,\n        \"samples\": [\n          5.0,\n          5.1,\n          5.2\n        ],\n        \"semantic_type\": \"\",\n        \"description\": \"\"\n      }\n    },\n    {\n      \"column\": \"PetalWidthCm\",\n      \"properties\": {\n        \"dtype\": \"number\",\n        \"std\": 0.23021728866442667,\n        \"min\": 1.8,\n        \"max\": 2.3,\n        \"num_unique_values\": 4,\n        \"samples\": [\n          1.9,\n          1.8,\n          2.3\n        ],\n        \"semantic_type\": \"\",\n        \"description\": \"\"\n      }\n    },\n    {\n      \"column\": \"Class\",\n      \"properties\": {\n        \"dtype\": \"category\",\n        \"num_unique_values\": 1,\n        \"samples\": [\n          \"Iris-virginica\"\n        ],\n        \"semantic_type\": \"\",\n        \"description\": \"\"\n      }\n    }\n  ]\n}"
            }
          },
          "metadata": {},
          "execution_count": 44
        }
      ],
      "source": [
        "df.tail()"
      ]
    },
    {
      "cell_type": "code",
      "source": [
        "df = df.drop(columns=['Id'])"
      ],
      "metadata": {
        "id": "94Y896TlrGW5"
      },
      "id": "94Y896TlrGW5",
      "execution_count": null,
      "outputs": []
    },
    {
      "cell_type": "markdown",
      "source": [
        "**Boxplot**"
      ],
      "metadata": {
        "id": "6uKbA8mMzcnL"
      },
      "id": "6uKbA8mMzcnL"
    },
    {
      "cell_type": "code",
      "execution_count": null,
      "id": "minus-richards",
      "metadata": {
        "_kg_hide-output": false,
        "papermill": {
          "duration": 1.153364,
          "end_time": "2021-07-02T01:56:17.308142",
          "exception": false,
          "start_time": "2021-07-02T01:56:16.154778",
          "status": "completed"
        },
        "tags": [],
        "colab": {
          "base_uri": "https://localhost:8080/",
          "height": 1000
        },
        "id": "minus-richards",
        "outputId": "69b982fb-eda3-413d-826e-0a04efe48055"
      },
      "outputs": [
        {
          "output_type": "execute_result",
          "data": {
            "text/plain": [
              "array([[<Axes: title={'center': 'PetalLengthCm'}, xlabel='[Class]'>,\n",
              "        <Axes: title={'center': 'PetalWidthCm'}, xlabel='[Class]'>],\n",
              "       [<Axes: title={'center': 'SepalLengthCm'}, xlabel='[Class]'>,\n",
              "        <Axes: title={'center': 'SepalWidthCm'}, xlabel='[Class]'>]],\n",
              "      dtype=object)"
            ]
          },
          "metadata": {},
          "execution_count": 48
        },
        {
          "output_type": "display_data",
          "data": {
            "text/plain": [
              "<Figure size 1400x1400 with 4 Axes>"
            ],
            "image/png": "[encoded data removed]"
          },
          "metadata": {}
        }
      ],
      "source": [
        "df.boxplot(by=\"Class\", layout=(2, 2), figsize=(14, 14))"
      ]
    },
    {
      "cell_type": "markdown",
      "id": "heavy-algeria",
      "metadata": {
        "papermill": {
          "duration": 0.029316,
          "end_time": "2021-07-02T01:56:17.366961",
          "exception": false,
          "start_time": "2021-07-02T01:56:17.337645",
          "status": "completed"
        },
        "tags": [],
        "id": "heavy-algeria"
      },
      "source": [
        "The boxplots reveal several insights, including that virginica has the largest median petal length. The data also contains only a few outliers."
      ]
    },
    {
      "cell_type": "code",
      "execution_count": null,
      "id": "amazing-witness",
      "metadata": {
        "papermill": {
          "duration": 0.036804,
          "end_time": "2021-07-02T01:56:17.432879",
          "exception": false,
          "start_time": "2021-07-02T01:56:17.396075",
          "status": "completed"
        },
        "tags": [],
        "id": "amazing-witness"
      },
      "outputs": [],
      "source": [
        "X = df.iloc[:,0:4].values\n",
        "y = df.iloc[:,4].values"
      ]
    },
    {
      "cell_type": "code",
      "execution_count": null,
      "id": "creative-sense",
      "metadata": {
        "papermill": {
          "duration": 0.038686,
          "end_time": "2021-07-02T01:56:17.502497",
          "exception": false,
          "start_time": "2021-07-02T01:56:17.463811",
          "status": "completed"
        },
        "tags": [],
        "id": "creative-sense"
      },
      "outputs": [],
      "source": [
        "X.shape, y.shape;"
      ]
    },
    {
      "cell_type": "markdown",
      "id": "quality-producer",
      "metadata": {
        "papermill": {
          "duration": 0.031141,
          "end_time": "2021-07-02T01:56:17.563386",
          "exception": false,
          "start_time": "2021-07-02T01:56:17.532245",
          "status": "completed"
        },
        "tags": [],
        "id": "quality-producer"
      },
      "source": [
        "Data set is now stored in the form of a 150×4 matrix where the columns are the different features, and every row represents a separate flower sample.\n",
        "\n",
        "Each sample row x can be pictured as a **4-dimensional vector** as we can see in the above screenshot of x output values."
      ]
    },
    {
      "cell_type": "markdown",
      "id": "naval-premium",
      "metadata": {
        "papermill": {
          "duration": 0.030983,
          "end_time": "2021-07-02T01:56:17.685013",
          "exception": false,
          "start_time": "2021-07-02T01:56:17.654030",
          "status": "completed"
        },
        "tags": [],
        "id": "naval-premium"
      },
      "source": [
        "# **Standardization (Normalizing the data):**\n",
        "\n",
        "When the features are measured on different scales, it is recommended to standardize the data to ensure all feature spaces have a *mean of 0 and variance of 1*.\n",
        "\n",
        "Standardization is crucial before applying PCA because PCA is highly sensitive to variance. If there are significant differences in the scales (ranges) of the features, those with larger scales will dominate those with smaller scales.\n",
        "\n",
        "\n",
        "![formula](https://ashutoshtripathicom.files.wordpress.com/2019/07/standardization-1.png)"
      ]
    },
    {
      "cell_type": "code",
      "execution_count": null,
      "id": "continued-creation",
      "metadata": {
        "papermill": {
          "duration": 0.038266,
          "end_time": "2021-07-02T01:56:17.753321",
          "exception": false,
          "start_time": "2021-07-02T01:56:17.715055",
          "status": "completed"
        },
        "tags": [],
        "id": "continued-creation"
      },
      "outputs": [],
      "source": [
        "X_std = StandardScaler().fit_transform(X)"
      ]
    },
    {
      "cell_type": "markdown",
      "id": "compatible-orientation",
      "metadata": {
        "papermill": {
          "duration": 0.029815,
          "end_time": "2021-07-02T01:56:17.941285",
          "exception": false,
          "start_time": "2021-07-02T01:56:17.911470",
          "status": "completed"
        },
        "tags": [],
        "id": "compatible-orientation"
      },
      "source": [
        "# Compute Eigen Values and Eigen Vectors:\n",
        "Here I am using numpy array to calculate Eigenvectors and Eigenvalues of the standardized feature space values."
      ]
    },
    {
      "cell_type": "code",
      "execution_count": null,
      "id": "great-chemistry",
      "metadata": {
        "papermill": {
          "duration": 0.056282,
          "end_time": "2021-07-02T01:56:18.028802",
          "exception": false,
          "start_time": "2021-07-02T01:56:17.972520",
          "status": "completed"
        },
        "tags": [],
        "colab": {
          "base_uri": "https://localhost:8080/"
        },
        "id": "great-chemistry",
        "outputId": "794c5024-61fa-4dbd-e23e-58cf6f3d575c"
      },
      "outputs": [
        {
          "output_type": "stream",
          "name": "stdout",
          "text": [
            "Covariance Matrix \n",
            "\n",
            "Eigenvectors \n",
            "[[ 1.00671141 -0.11010327  0.87760486  0.82344326]\n",
            " [-0.11010327  1.00671141 -0.42333835 -0.358937  ]\n",
            " [ 0.87760486 -0.42333835  1.00671141  0.96921855]\n",
            " [ 0.82344326 -0.358937    0.96921855  1.00671141]]\n",
            "Eigenvectors \n",
            "[[ 0.52237162 -0.37231836 -0.72101681  0.26199559]\n",
            " [-0.26335492 -0.92555649  0.24203288 -0.12413481]\n",
            " [ 0.58125401 -0.02109478  0.14089226 -0.80115427]\n",
            " [ 0.56561105 -0.06541577  0.6338014   0.52354627]]\n",
            "Eigenvalues \n",
            "[2.93035378 0.92740362 0.14834223 0.02074601]\n"
          ]
        }
      ],
      "source": [
        "print('Covariance Matrix \\n')\n",
        "\n",
        "cov_mat = np.cov(X_std.T)\n",
        "eig_vals, eig_vecs = np.linalg.eig(cov_mat)\n",
        "print('Eigenvectors \\n%s' %cov_mat)\n",
        "print('Eigenvectors \\n%s' %eig_vecs)\n",
        "print('Eigenvalues \\n%s' %eig_vals)"
      ]
    },
    {
      "cell_type": "markdown",
      "id": "pregnant-advocacy",
      "metadata": {
        "papermill": {
          "duration": 0.031173,
          "end_time": "2021-07-02T01:56:18.091338",
          "exception": false,
          "start_time": "2021-07-02T01:56:18.060165",
          "status": "completed"
        },
        "tags": [],
        "id": "pregnant-advocacy"
      },
      "source": [
        "## Eigen Vectors verification:\n",
        "\n",
        "Sum of square of each value in an Eigenvector is 1. So let’s see if it holds true which mean we have computed Eigenvectors correctly."
      ]
    },
    {
      "cell_type": "code",
      "execution_count": null,
      "id": "efficient-actress",
      "metadata": {
        "execution": {
          "iopub.execute_input": "2021-07-02T01:56:18.156496Z",
          "iopub.status.busy": "2021-07-02T01:56:18.155840Z",
          "iopub.status.idle": "2021-07-02T01:56:18.164944Z",
          "shell.execute_reply": "2021-07-02T01:56:18.165397Z",
          "shell.execute_reply.started": "2021-07-02T01:54:55.869437Z"
        },
        "papermill": {
          "duration": 0.043493,
          "end_time": "2021-07-02T01:56:18.165597",
          "exception": false,
          "start_time": "2021-07-02T01:56:18.122104",
          "status": "completed"
        },
        "tags": [],
        "colab": {
          "base_uri": "https://localhost:8080/"
        },
        "id": "efficient-actress",
        "outputId": "59cf0658-8583-439e-d226-c57ec275a732"
      },
      "outputs": [
        {
          "output_type": "stream",
          "name": "stdout",
          "text": [
            "[array([0.27287211, 0.13862096, 0.51986524, 0.06864169]), array([0.06935581, 0.85665482, 0.05857991, 0.01540945]), array([3.37856219e-01, 4.44989610e-04, 1.98506285e-02, 6.41848163e-01]), array([0.31991586, 0.00427922, 0.40170422, 0.2741007 ])]\n"
          ]
        }
      ],
      "source": [
        "square_eig=[]\n",
        "for i in eig_vecs:\n",
        "    square_eig.append(i**2)\n",
        "print(square_eig)"
      ]
    },
    {
      "cell_type": "code",
      "source": [
        "x = sum(square_eig)\n",
        "print(x)\n",
        "print(\"\\n Sum of squares of each values in an  eigen vector is: \\n\",0.27287211+ 0.13862096+0.51986524+ 0.06864169)\n",
        "for e in eig_vecs:\n",
        "    np.testing.assert_array_almost_equal(1.0, np.linalg.norm(e))"
      ],
      "metadata": {
        "colab": {
          "base_uri": "https://localhost:8080/"
        },
        "id": "KQmkg9s3tG-A",
        "outputId": "71f03790-ade9-4dc4-ec60-006db219753b"
      },
      "id": "KQmkg9s3tG-A",
      "execution_count": null,
      "outputs": [
        {
          "output_type": "stream",
          "name": "stdout",
          "text": [
            "[1. 1. 1. 1.]\n",
            "\n",
            " Sum of squares of each values in an  eigen vector is: \n",
            " 1.0\n"
          ]
        }
      ]
    },
    {
      "cell_type": "markdown",
      "source": [
        "# Selecting the K Principal Components:\n",
        "\n",
        "How do we select the new set of principal components?\n",
        "\n",
        "The basic rule is to sort the eigenvalues in descending order and then pick the top k features that correspond to the largest eigenvalues.\n",
        "The idea behind this is that by choosing the top k, we are assuming that the variance associated with those k components is enough to represent the dataset. Ignoring the variance from the remaining components doesn't significantly impact the accuracy, or the loss in accuracy due to the ignored variance is acceptable.\n",
        "\n",
        "This decision depends on the specific problem and business case. There's no perfect rule to follow; it should be based on the context."
      ],
      "metadata": {
        "id": "kD-wTCQsxz6r"
      },
      "id": "kD-wTCQsxz6r"
    },
    {
      "cell_type": "code",
      "execution_count": null,
      "id": "transparent-appendix",
      "metadata": {
        "execution": {
          "iopub.execute_input": "2021-07-02T01:56:18.302165Z",
          "iopub.status.busy": "2021-07-02T01:56:18.301433Z",
          "iopub.status.idle": "2021-07-02T01:56:18.306062Z",
          "shell.execute_reply": "2021-07-02T01:56:18.305453Z",
          "shell.execute_reply.started": "2021-07-02T01:54:55.880618Z"
        },
        "papermill": {
          "duration": 0.048659,
          "end_time": "2021-07-02T01:56:18.306208",
          "exception": false,
          "start_time": "2021-07-02T01:56:18.257549",
          "status": "completed"
        },
        "tags": [],
        "colab": {
          "base_uri": "https://localhost:8080/"
        },
        "id": "transparent-appendix",
        "outputId": "9c113c18-3836-4150-e24f-9435b7c1048d"
      },
      "outputs": [
        {
          "output_type": "stream",
          "name": "stdout",
          "text": [
            "<class 'list'>\n",
            "\n",
            " [(2.930353775589317, array([ 0.52237162, -0.26335492,  0.58125401,  0.56561105])), (0.9274036215173419, array([-0.37231836, -0.92555649, -0.02109478, -0.06541577])), (0.14834222648163944, array([-0.72101681,  0.24203288,  0.14089226,  0.6338014 ])), (0.02074601399559593, array([ 0.26199559, -0.12413481, -0.80115427,  0.52354627]))]\n",
            "\n",
            "\n",
            "\n",
            "Eigenvalues in descending order:\n",
            "2.930353775589317\n",
            "0.9274036215173419\n",
            "0.14834222648163944\n",
            "0.02074601399559593\n"
          ]
        },
        {
          "output_type": "execute_result",
          "data": {
            "text/plain": [
              "[[0.5223716204076599,\n",
              "  -0.2633549153139403,\n",
              "  0.5812540055976477,\n",
              "  0.5656110498826491],\n",
              " [-0.3723183633499689,\n",
              "  -0.9255564941472946,\n",
              "  -0.021094776841246433,\n",
              "  -0.06541576907892797],\n",
              " [-0.7210168090620422,\n",
              "  0.24203287721394123,\n",
              "  0.14089225848754092,\n",
              "  0.633801403355824],\n",
              " [0.2619955868999825,\n",
              "  -0.1241348100626826,\n",
              "  -0.8011542690799242,\n",
              "  0.5235462716041895]]"
            ]
          },
          "metadata": {},
          "execution_count": 63
        }
      ],
      "source": [
        "#Make a list of (eigenvalue, eigenvector) tuples\n",
        "eig_pairs = [(np.abs(eig_vals[i]), eig_vecs[:,i]) for i in range(len(eig_vals))]\n",
        "print(type(eig_pairs))\n",
        "#Sort the (eigenvalue, eigenvector) tuples from high to low\n",
        "eig_pairs.sort()\n",
        "eig_pairs.reverse()\n",
        "print(\"\\n\",eig_pairs)\n",
        "#Visually confirm that the list is correctly sorted by decreasing eigenvalues\n",
        "print('\\n\\n\\nEigenvalues in descending order:')\n",
        "sorted_eigen_values = []\n",
        "sorted_eigen_vectors = []\n",
        "\n",
        "for i,k in zip(eig_pairs,range(len(eig_pairs))):\n",
        "    print(i[0])\n",
        "    sorted_eigen_values.append(i[0])\n",
        "    sorted_eigen_vectors.append(list(eig_pairs[k][1]))\n",
        "\n",
        "sorted_eigen_vectors"
      ]
    },
    {
      "cell_type": "markdown",
      "id": "vietnamese-civilian",
      "metadata": {
        "papermill": {
          "duration": 0.031853,
          "end_time": "2021-07-02T01:56:18.371842",
          "exception": false,
          "start_time": "2021-07-02T01:56:18.339989",
          "status": "completed"
        },
        "tags": [],
        "id": "vietnamese-civilian"
      },
      "source": [
        "### -> Explained Variance :\n",
        "\n",
        "#### -A useful measure is the so-called “explained variance,” which can be calculated from the eigenvalues.\n",
        "#### -The explained variance tells us how much information (variance) can be attributed to each of the principal components."
      ]
    },
    {
      "cell_type": "code",
      "execution_count": null,
      "id": "generic-swing",
      "metadata": {
        "execution": {
          "iopub.execute_input": "2021-07-02T01:56:18.444270Z",
          "iopub.status.busy": "2021-07-02T01:56:18.443037Z",
          "iopub.status.idle": "2021-07-02T01:56:18.448048Z",
          "shell.execute_reply": "2021-07-02T01:56:18.448552Z",
          "shell.execute_reply.started": "2021-07-02T01:54:55.900229Z"
        },
        "papermill": {
          "duration": 0.045581,
          "end_time": "2021-07-02T01:56:18.448735",
          "exception": false,
          "start_time": "2021-07-02T01:56:18.403154",
          "status": "completed"
        },
        "tags": [],
        "colab": {
          "base_uri": "https://localhost:8080/"
        },
        "id": "generic-swing",
        "outputId": "5923ab8e-23d5-4242-8f1d-42d98c636027"
      },
      "outputs": [
        {
          "output_type": "stream",
          "name": "stdout",
          "text": [
            "\n",
            " 4.026845637583894\n",
            "\n",
            "\n",
            "1. Variance Explained\n",
            " [72.77045209380135, 23.03052326768065, 3.683831957627379, 0.5151926808906321]\n",
            "\n",
            "\n",
            "2. Cumulative Variance Explained\n",
            " [ 72.77045209  95.80097536  99.48480732 100.        ]\n",
            "\n",
            "\n",
            "3. Percentage of variance the first two principal components each contain\n",
            "  [72.77045209380135, 23.03052326768065]\n",
            "\n",
            "\n",
            "4. Percentage of variance the first two principal components together contain\n",
            " 95.800975361482\n"
          ]
        }
      ],
      "source": [
        "tot = sum(eig_vals)\n",
        "print(\"\\n\",tot)\n",
        "var_exp = [(i / tot)*100 for i in sorted(eig_vals, reverse=True)]\n",
        "print(\"\\n\\n1. Variance Explained\\n\",var_exp)\n",
        "cum_var_exp = np.cumsum(var_exp)\n",
        "print(\"\\n\\n2. Cumulative Variance Explained\\n\",cum_var_exp)\n",
        "print(\"\\n\\n3. Percentage of variance the first two principal components each contain\\n \",var_exp[0:2])\n",
        "print(\"\\n\\n4. Percentage of variance the first two principal components together contain\\n\",sum(var_exp[0:2]))\n"
      ]
    },
    {
      "cell_type": "code",
      "execution_count": null,
      "id": "collective-camcorder",
      "metadata": {
        "execution": {
          "iopub.execute_input": "2021-07-02T01:56:18.534432Z",
          "iopub.status.busy": "2021-07-02T01:56:18.532029Z",
          "iopub.status.idle": "2021-07-02T01:56:18.651970Z",
          "shell.execute_reply": "2021-07-02T01:56:18.651417Z",
          "shell.execute_reply.started": "2021-07-02T01:54:55.910893Z"
        },
        "papermill": {
          "duration": 0.17074,
          "end_time": "2021-07-02T01:56:18.652105",
          "exception": false,
          "start_time": "2021-07-02T01:56:18.481365",
          "status": "completed"
        },
        "tags": [],
        "id": "collective-camcorder",
        "outputId": "eec735af-fa8c-48d1-fd56-d2e3f1e0fdc4"
      },
      "outputs": [
        {
          "data": {
            "text/plain": [
              "(1.0, 4.0)"
            ]
          },
          "execution_count": 14,
          "metadata": {},
          "output_type": "execute_result"
        },
        {
          "data": {
            "image/png": "[encoded data removed]",
            "text/plain": [
              "<Figure size 432x288 with 1 Axes>"
            ]
          },
          "metadata": {
            "needs_background": "light"
          },
          "output_type": "display_data"
        }
      ],
      "source": [
        "xint = range(1, len(cum_var_exp) + 1)\n",
        "plt.plot(xint, cum_var_exp)\n",
        "\n",
        "plt.xlabel(\"Number of components\")\n",
        "plt.ylabel(\"Cumulative explained variance\")\n",
        "plt.xticks(xint)\n",
        "plt.xlim(1, 4, 1)"
      ]
    },
    {
      "cell_type": "markdown",
      "id": "overhead-budapest",
      "metadata": {
        "papermill": {
          "duration": 0.032206,
          "end_time": "2021-07-02T01:56:18.719279",
          "exception": false,
          "start_time": "2021-07-02T01:56:18.687073",
          "status": "completed"
        },
        "tags": [],
        "id": "overhead-budapest"
      },
      "source": [
        "#### From the plot, we can see that over 95% of the variance is captured within the two largest principal components. Therefore, it is acceptable to choose the first two largest principal components to make up the projection matrix W."
      ]
    },
    {
      "cell_type": "markdown",
      "id": "standard-stamp",
      "metadata": {
        "papermill": {
          "duration": 0.033886,
          "end_time": "2021-07-02T01:56:18.785623",
          "exception": false,
          "start_time": "2021-07-02T01:56:18.751737",
          "status": "completed"
        },
        "tags": [],
        "id": "standard-stamp"
      },
      "source": [
        "<a id=\"section-5\"></a>\n",
        "## 5. Construct the projection matrix W from the selected k eigenvectors:\n",
        "\n",
        "#### -Projection matrix will be used to transform the Iris data onto the new feature subspace or we say new transformed data set with reduced dimensions.\n",
        "\n",
        "#### -It is matrix of our concatenated top k Eigenvectors.\n",
        "#### -Here, we are reducing the 4-dimensional feature space to a 2-dimensional feature subspace, by choosing the “top 2” Eigenvectors with the highest Eigenvalues to construct our d×k-dimensional Eigenvector matrix W.\n",
        "\n"
      ]
    },
    {
      "cell_type": "code",
      "execution_count": null,
      "id": "abandoned-survivor",
      "metadata": {
        "execution": {
          "iopub.execute_input": "2021-07-02T01:56:18.858832Z",
          "iopub.status.busy": "2021-07-02T01:56:18.857969Z",
          "iopub.status.idle": "2021-07-02T01:56:18.862469Z",
          "shell.execute_reply": "2021-07-02T01:56:18.861784Z",
          "shell.execute_reply.started": "2021-07-02T01:54:56.051117Z"
        },
        "papermill": {
          "duration": 0.043697,
          "end_time": "2021-07-02T01:56:18.862728",
          "exception": false,
          "start_time": "2021-07-02T01:56:18.819031",
          "status": "completed"
        },
        "tags": [],
        "id": "abandoned-survivor",
        "outputId": "1c458137-b5d9-4b2e-beb3-d2312ee8fbcb"
      },
      "outputs": [
        {
          "name": "stdout",
          "output_type": "stream",
          "text": [
            "[ 0.52237162 -0.26335492  0.58125401  0.56561105]\n",
            "[-0.37231836 -0.92555649 -0.02109478 -0.06541577]\n",
            "Matrix W:\n",
            " [[ 0.52237162 -0.37231836]\n",
            " [-0.26335492 -0.92555649]\n",
            " [ 0.58125401 -0.02109478]\n",
            " [ 0.56561105 -0.06541577]]\n"
          ]
        }
      ],
      "source": [
        "print(eig_pairs[0][1])\n",
        "print(eig_pairs[1][1])\n",
        "matrix_w = np.hstack((eig_pairs[0][1].reshape(4,1),\n",
        "                      eig_pairs[1][1].reshape(4,1)))\n",
        "#hstack: Stacks arrays in sequence horizontally (column wise).\n",
        "print('Matrix W:\\n', matrix_w)"
      ]
    },
    {
      "cell_type": "markdown",
      "id": "shared-catalog",
      "metadata": {
        "papermill": {
          "duration": 0.033141,
          "end_time": "2021-07-02T01:56:18.929547",
          "exception": false,
          "start_time": "2021-07-02T01:56:18.896406",
          "status": "completed"
        },
        "tags": [],
        "id": "shared-catalog"
      },
      "source": [
        "<a id=\"section-6\"></a>\n",
        "## 6. Projection Onto the New Feature Space:\n",
        "\n",
        "#### In this last step we will use the 4×2-dimensional projection matrix W to transform our samples onto the new subspace via the equation Y=X×W, where the output matrix Y will be a 150×2 matrix of our transformed samples."
      ]
    },
    {
      "cell_type": "code",
      "execution_count": null,
      "id": "expected-multiple",
      "metadata": {
        "execution": {
          "iopub.execute_input": "2021-07-02T01:56:19.009470Z",
          "iopub.status.busy": "2021-07-02T01:56:19.008299Z",
          "iopub.status.idle": "2021-07-02T01:56:19.013102Z",
          "shell.execute_reply": "2021-07-02T01:56:19.012503Z",
          "shell.execute_reply.started": "2021-07-02T01:54:56.061978Z"
        },
        "papermill": {
          "duration": 0.049129,
          "end_time": "2021-07-02T01:56:19.013237",
          "exception": false,
          "start_time": "2021-07-02T01:56:18.964108",
          "status": "completed"
        },
        "tags": [],
        "id": "expected-multiple",
        "outputId": "c1198e64-e91d-49be-d606-ba403a7b9a0d"
      },
      "outputs": [
        {
          "data": {
            "text/html": [
              "<div>\n",
              "<style scoped>\n",
              "    .dataframe tbody tr th:only-of-type {\n",
              "        vertical-align: middle;\n",
              "    }\n",
              "\n",
              "    .dataframe tbody tr th {\n",
              "        vertical-align: top;\n",
              "    }\n",
              "\n",
              "    .dataframe thead th {\n",
              "        text-align: right;\n",
              "    }\n",
              "</style>\n",
              "<table border=\"1\" class=\"dataframe\">\n",
              "  <thead>\n",
              "    <tr style=\"text-align: right;\">\n",
              "      <th></th>\n",
              "      <th>principal component 1</th>\n",
              "      <th>principal component 2</th>\n",
              "    </tr>\n",
              "  </thead>\n",
              "  <tbody>\n",
              "    <tr>\n",
              "      <th>0</th>\n",
              "      <td>-2.264542</td>\n",
              "      <td>-0.505704</td>\n",
              "    </tr>\n",
              "    <tr>\n",
              "      <th>1</th>\n",
              "      <td>-2.086426</td>\n",
              "      <td>0.655405</td>\n",
              "    </tr>\n",
              "    <tr>\n",
              "      <th>2</th>\n",
              "      <td>-2.367950</td>\n",
              "      <td>0.318477</td>\n",
              "    </tr>\n",
              "    <tr>\n",
              "      <th>3</th>\n",
              "      <td>-2.304197</td>\n",
              "      <td>0.575368</td>\n",
              "    </tr>\n",
              "    <tr>\n",
              "      <th>4</th>\n",
              "      <td>-2.388777</td>\n",
              "      <td>-0.674767</td>\n",
              "    </tr>\n",
              "  </tbody>\n",
              "</table>\n",
              "</div>"
            ],
            "text/plain": [
              "   principal component 1  principal component 2\n",
              "0              -2.264542              -0.505704\n",
              "1              -2.086426               0.655405\n",
              "2              -2.367950               0.318477\n",
              "3              -2.304197               0.575368\n",
              "4              -2.388777              -0.674767"
            ]
          },
          "execution_count": 16,
          "metadata": {},
          "output_type": "execute_result"
        }
      ],
      "source": [
        "Y = X_std.dot(matrix_w)\n",
        "principalDf = pd.DataFrame(data = Y\n",
        "          , columns = ['principal component 1', 'principal component 2'])\n",
        "principalDf.head()"
      ]
    },
    {
      "cell_type": "markdown",
      "id": "southwest-palmer",
      "metadata": {
        "papermill": {
          "duration": 0.034597,
          "end_time": "2021-07-02T01:56:19.082454",
          "exception": false,
          "start_time": "2021-07-02T01:56:19.047857",
          "status": "completed"
        },
        "tags": [],
        "id": "southwest-palmer"
      },
      "source": [
        "#### Compiling into a fresh DataFrame."
      ]
    },
    {
      "cell_type": "code",
      "execution_count": null,
      "id": "listed-request",
      "metadata": {
        "execution": {
          "iopub.execute_input": "2021-07-02T01:56:19.165054Z",
          "iopub.status.busy": "2021-07-02T01:56:19.164180Z",
          "iopub.status.idle": "2021-07-02T01:56:19.169154Z",
          "shell.execute_reply": "2021-07-02T01:56:19.168604Z",
          "shell.execute_reply.started": "2021-07-02T01:54:56.080210Z"
        },
        "papermill": {
          "duration": 0.0522,
          "end_time": "2021-07-02T01:56:19.169306",
          "exception": false,
          "start_time": "2021-07-02T01:56:19.117106",
          "status": "completed"
        },
        "tags": [],
        "id": "listed-request",
        "outputId": "4ef4af32-f2db-4299-c35e-8a25fcd322e1"
      },
      "outputs": [
        {
          "data": {
            "text/html": [
              "<div>\n",
              "<style scoped>\n",
              "    .dataframe tbody tr th:only-of-type {\n",
              "        vertical-align: middle;\n",
              "    }\n",
              "\n",
              "    .dataframe tbody tr th {\n",
              "        vertical-align: top;\n",
              "    }\n",
              "\n",
              "    .dataframe thead th {\n",
              "        text-align: right;\n",
              "    }\n",
              "</style>\n",
              "<table border=\"1\" class=\"dataframe\">\n",
              "  <thead>\n",
              "    <tr style=\"text-align: right;\">\n",
              "      <th></th>\n",
              "      <th>principal component 1</th>\n",
              "      <th>principal component 2</th>\n",
              "      <th>species</th>\n",
              "    </tr>\n",
              "  </thead>\n",
              "  <tbody>\n",
              "    <tr>\n",
              "      <th>0</th>\n",
              "      <td>-2.264542</td>\n",
              "      <td>-0.505704</td>\n",
              "      <td>Iris-setosa</td>\n",
              "    </tr>\n",
              "    <tr>\n",
              "      <th>1</th>\n",
              "      <td>-2.086426</td>\n",
              "      <td>0.655405</td>\n",
              "      <td>Iris-setosa</td>\n",
              "    </tr>\n",
              "    <tr>\n",
              "      <th>2</th>\n",
              "      <td>-2.367950</td>\n",
              "      <td>0.318477</td>\n",
              "      <td>Iris-setosa</td>\n",
              "    </tr>\n",
              "    <tr>\n",
              "      <th>3</th>\n",
              "      <td>-2.304197</td>\n",
              "      <td>0.575368</td>\n",
              "      <td>Iris-setosa</td>\n",
              "    </tr>\n",
              "    <tr>\n",
              "      <th>4</th>\n",
              "      <td>-2.388777</td>\n",
              "      <td>-0.674767</td>\n",
              "      <td>Iris-setosa</td>\n",
              "    </tr>\n",
              "  </tbody>\n",
              "</table>\n",
              "</div>"
            ],
            "text/plain": [
              "   principal component 1  principal component 2      species\n",
              "0              -2.264542              -0.505704  Iris-setosa\n",
              "1              -2.086426               0.655405  Iris-setosa\n",
              "2              -2.367950               0.318477  Iris-setosa\n",
              "3              -2.304197               0.575368  Iris-setosa\n",
              "4              -2.388777              -0.674767  Iris-setosa"
            ]
          },
          "execution_count": 17,
          "metadata": {},
          "output_type": "execute_result"
        }
      ],
      "source": [
        "finalDf = pd.concat([principalDf,pd.DataFrame(y,columns = ['species'])], axis = 1)\n",
        "finalDf.head()"
      ]
    },
    {
      "cell_type": "markdown",
      "id": "organic-seeking",
      "metadata": {
        "papermill": {
          "duration": 0.035226,
          "end_time": "2021-07-02T01:56:19.239141",
          "exception": false,
          "start_time": "2021-07-02T01:56:19.203915",
          "status": "completed"
        },
        "tags": [],
        "id": "organic-seeking"
      },
      "source": [
        "## Visualizing the Target Classes on the axes of the 2 new PCs - PC1 and PC2."
      ]
    },
    {
      "cell_type": "code",
      "execution_count": null,
      "id": "alternate-subscription",
      "metadata": {
        "execution": {
          "iopub.execute_input": "2021-07-02T01:56:19.332217Z",
          "iopub.status.busy": "2021-07-02T01:56:19.331534Z",
          "iopub.status.idle": "2021-07-02T01:56:19.579801Z",
          "shell.execute_reply": "2021-07-02T01:56:19.579296Z",
          "shell.execute_reply.started": "2021-07-02T01:54:56.100897Z"
        },
        "papermill": {
          "duration": 0.305034,
          "end_time": "2021-07-02T01:56:19.579940",
          "exception": false,
          "start_time": "2021-07-02T01:56:19.274906",
          "status": "completed"
        },
        "tags": [],
        "id": "alternate-subscription",
        "outputId": "0aef6e0e-fba3-4f18-bb30-8bb7a98820e0"
      },
      "outputs": [
        {
          "data": {
            "image/png": "[encoded data removed]",
            "text/plain": [
              "<Figure size 576x360 with 1 Axes>"
            ]
          },
          "metadata": {
            "needs_background": "light"
          },
          "output_type": "display_data"
        }
      ],
      "source": [
        "fig = plt.figure(figsize = (8,5))\n",
        "ax = fig.add_subplot(1,1,1)\n",
        "ax.set_xlabel('Principal Component 1', fontsize = 15)\n",
        "ax.set_ylabel('Principal Component 2', fontsize = 15)\n",
        "ax.set_title('2 Component PCA', fontsize = 20)\n",
        "targets = ['Iris-setosa', 'Iris-versicolor', 'Iris-virginica']\n",
        "colors = ['r', 'b', 'y']\n",
        "for target, color in zip(targets,colors):\n",
        "    indicesToKeep = finalDf['species'] == target\n",
        "    ax.scatter(finalDf.loc[indicesToKeep, 'principal component 1']\n",
        "               , finalDf.loc[indicesToKeep, 'principal component 2']\n",
        "               , c = color\n",
        "               , s = 50)\n",
        "ax.legend(targets)\n",
        "ax.grid()"
      ]
    },
    {
      "cell_type": "markdown",
      "id": "controversial-symphony",
      "metadata": {
        "papermill": {
          "duration": 0.034741,
          "end_time": "2021-07-02T01:56:19.649945",
          "exception": false,
          "start_time": "2021-07-02T01:56:19.615204",
          "status": "completed"
        },
        "tags": [],
        "id": "controversial-symphony"
      },
      "source": [
        "<a id=\"section-7\"></a>\n",
        "## **Bonus:** Doing this with the Python Library."
      ]
    },
    {
      "cell_type": "code",
      "execution_count": null,
      "id": "postal-arnold",
      "metadata": {
        "execution": {
          "iopub.execute_input": "2021-07-02T01:56:19.748671Z",
          "iopub.status.busy": "2021-07-02T01:56:19.744457Z",
          "iopub.status.idle": "2021-07-02T01:56:19.756013Z",
          "shell.execute_reply": "2021-07-02T01:56:19.756467Z",
          "shell.execute_reply.started": "2021-07-02T01:54:56.362914Z"
        },
        "papermill": {
          "duration": 0.071914,
          "end_time": "2021-07-02T01:56:19.756674",
          "exception": false,
          "start_time": "2021-07-02T01:56:19.684760",
          "status": "completed"
        },
        "tags": [],
        "id": "postal-arnold",
        "outputId": "c25f1524-612c-4f9a-c220-ee75a9a331bf"
      },
      "outputs": [
        {
          "data": {
            "text/html": [
              "<div>\n",
              "<style scoped>\n",
              "    .dataframe tbody tr th:only-of-type {\n",
              "        vertical-align: middle;\n",
              "    }\n",
              "\n",
              "    .dataframe tbody tr th {\n",
              "        vertical-align: top;\n",
              "    }\n",
              "\n",
              "    .dataframe thead th {\n",
              "        text-align: right;\n",
              "    }\n",
              "</style>\n",
              "<table border=\"1\" class=\"dataframe\">\n",
              "  <thead>\n",
              "    <tr style=\"text-align: right;\">\n",
              "      <th></th>\n",
              "      <th>principal component 1</th>\n",
              "      <th>principal component 2</th>\n",
              "    </tr>\n",
              "  </thead>\n",
              "  <tbody>\n",
              "    <tr>\n",
              "      <th>0</th>\n",
              "      <td>-2.264542</td>\n",
              "      <td>0.505704</td>\n",
              "    </tr>\n",
              "    <tr>\n",
              "      <th>1</th>\n",
              "      <td>-2.086426</td>\n",
              "      <td>-0.655405</td>\n",
              "    </tr>\n",
              "    <tr>\n",
              "      <th>2</th>\n",
              "      <td>-2.367950</td>\n",
              "      <td>-0.318477</td>\n",
              "    </tr>\n",
              "    <tr>\n",
              "      <th>3</th>\n",
              "      <td>-2.304197</td>\n",
              "      <td>-0.575368</td>\n",
              "    </tr>\n",
              "    <tr>\n",
              "      <th>4</th>\n",
              "      <td>-2.388777</td>\n",
              "      <td>0.674767</td>\n",
              "    </tr>\n",
              "  </tbody>\n",
              "</table>\n",
              "</div>"
            ],
            "text/plain": [
              "   principal component 1  principal component 2\n",
              "0              -2.264542               0.505704\n",
              "1              -2.086426              -0.655405\n",
              "2              -2.367950              -0.318477\n",
              "3              -2.304197              -0.575368\n",
              "4              -2.388777               0.674767"
            ]
          },
          "execution_count": 19,
          "metadata": {},
          "output_type": "execute_result"
        }
      ],
      "source": [
        "pca = PCA(n_components=2) # Here we can also give the percentage as a paramter to the PCA function as pca = PCA(.95). .95 means that we want to include 95% of the variance. Hence PCA will return the no of components which describe 95% of the variance. However we know from above computation that 2 components are enough so we have passed the 2 components.\n",
        "principalComponents = pca.fit_transform(X_std)\n",
        "principalDf = pd.DataFrame(data = principalComponents\n",
        "              , columns = ['principal component 1', 'principal component 2'])\n",
        "principalDf.head(5) # prints the top 5 rows"
      ]
    },
    {
      "cell_type": "code",
      "execution_count": null,
      "id": "hearing-palmer",
      "metadata": {
        "execution": {
          "iopub.execute_input": "2021-07-02T01:56:19.843647Z",
          "iopub.status.busy": "2021-07-02T01:56:19.842943Z",
          "iopub.status.idle": "2021-07-02T01:56:19.846963Z",
          "shell.execute_reply": "2021-07-02T01:56:19.846412Z",
          "shell.execute_reply.started": "2021-07-02T01:54:56.392041Z"
        },
        "papermill": {
          "duration": 0.051278,
          "end_time": "2021-07-02T01:56:19.847112",
          "exception": false,
          "start_time": "2021-07-02T01:56:19.795834",
          "status": "completed"
        },
        "tags": [],
        "id": "hearing-palmer",
        "outputId": "fcad6ab8-e9a7-4c97-ef94-fa46694d9226"
      },
      "outputs": [
        {
          "data": {
            "text/html": [
              "<div>\n",
              "<style scoped>\n",
              "    .dataframe tbody tr th:only-of-type {\n",
              "        vertical-align: middle;\n",
              "    }\n",
              "\n",
              "    .dataframe tbody tr th {\n",
              "        vertical-align: top;\n",
              "    }\n",
              "\n",
              "    .dataframe thead th {\n",
              "        text-align: right;\n",
              "    }\n",
              "</style>\n",
              "<table border=\"1\" class=\"dataframe\">\n",
              "  <thead>\n",
              "    <tr style=\"text-align: right;\">\n",
              "      <th></th>\n",
              "      <th>principal component 1</th>\n",
              "      <th>principal component 2</th>\n",
              "      <th>species</th>\n",
              "    </tr>\n",
              "  </thead>\n",
              "  <tbody>\n",
              "    <tr>\n",
              "      <th>0</th>\n",
              "      <td>-2.264542</td>\n",
              "      <td>0.505704</td>\n",
              "      <td>Iris-setosa</td>\n",
              "    </tr>\n",
              "    <tr>\n",
              "      <th>1</th>\n",
              "      <td>-2.086426</td>\n",
              "      <td>-0.655405</td>\n",
              "      <td>Iris-setosa</td>\n",
              "    </tr>\n",
              "    <tr>\n",
              "      <th>2</th>\n",
              "      <td>-2.367950</td>\n",
              "      <td>-0.318477</td>\n",
              "      <td>Iris-setosa</td>\n",
              "    </tr>\n",
              "    <tr>\n",
              "      <th>3</th>\n",
              "      <td>-2.304197</td>\n",
              "      <td>-0.575368</td>\n",
              "      <td>Iris-setosa</td>\n",
              "    </tr>\n",
              "    <tr>\n",
              "      <th>4</th>\n",
              "      <td>-2.388777</td>\n",
              "      <td>0.674767</td>\n",
              "      <td>Iris-setosa</td>\n",
              "    </tr>\n",
              "  </tbody>\n",
              "</table>\n",
              "</div>"
            ],
            "text/plain": [
              "   principal component 1  principal component 2      species\n",
              "0              -2.264542               0.505704  Iris-setosa\n",
              "1              -2.086426              -0.655405  Iris-setosa\n",
              "2              -2.367950              -0.318477  Iris-setosa\n",
              "3              -2.304197              -0.575368  Iris-setosa\n",
              "4              -2.388777               0.674767  Iris-setosa"
            ]
          },
          "execution_count": 20,
          "metadata": {},
          "output_type": "execute_result"
        }
      ],
      "source": [
        "finalDf = pd.concat([principalDf, finalDf[['species']]], axis = 1)\n",
        "finalDf.head(5)"
      ]
    },
    {
      "cell_type": "markdown",
      "id": "basic-loading",
      "metadata": {
        "papermill": {
          "duration": 0.035717,
          "end_time": "2021-07-02T01:56:19.922546",
          "exception": false,
          "start_time": "2021-07-02T01:56:19.886829",
          "status": "completed"
        },
        "tags": [],
        "id": "basic-loading"
      },
      "source": [
        "<a id=\"conclusion\"></a>\n",
        "**Note:** As we can see, we have achieved the similar results with the Python library as well.\n",
        "\n",
        "**Conclusion:** Together, the first two principal components contain 95.80% of the information. The first principal component contains 72.77% of the variance and the second principal component contains 23.03% of the variance. The third and fourth principal component contained the rest of the variance of the data set."
      ]
    }
  ],
  "metadata": {
    "kernelspec": {
      "display_name": "Python 3 (ipykernel)",
      "language": "python",
      "name": "python3"
    },
    "language_info": {
      "codemirror_mode": {
        "name": "ipython",
        "version": 3
      },
      "file_extension": ".py",
      "mimetype": "text/x-python",
      "name": "python",
      "nbconvert_exporter": "python",
      "pygments_lexer": "ipython3",
      "version": "3.11.5"
    },
    "papermill": {
      "default_parameters": {},
      "duration": 15.866398,
      "end_time": "2021-07-02T01:56:21.287968",
      "environment_variables": {},
      "exception": null,
      "input_path": "__notebook__.ipynb",
      "output_path": "__notebook__.ipynb",
      "parameters": {},
      "start_time": "2021-07-02T01:56:05.421570",
      "version": "2.3.3"
    },
    "colab": {
      "provenance": [],
      "include_colab_link": true
    }
  },
  "nbformat": 4,
  "nbformat_minor": 5
}