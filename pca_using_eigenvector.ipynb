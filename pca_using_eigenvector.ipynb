{
  "cells": [
    {
      "cell_type": "markdown",
      "metadata": {
        "id": "view-in-github",
        "colab_type": "text"
      },
      "source": [
        "<a href=\"https://colab.research.google.com/github/faiggafarov/PCA-Eigenvector/blob/main/pca_using_eigenvector.ipynb\" target=\"_parent\"><img src=\"https://colab.research.google.com/assets/colab-badge.svg\" alt=\"Open In Colab\"/></a>"
      ]
    },
    {
      "cell_type": "markdown",
      "id": "armed-printing",
      "metadata": {
        "papermill": {
          "duration": 0.027865,
          "end_time": "2021-07-02T01:56:13.777448",
          "exception": false,
          "start_time": "2021-07-02T01:56:13.749583",
          "status": "completed"
        },
        "tags": [],
        "id": "armed-printing"
      },
      "source": [
        "# PCA : Principal Component Analysis\n",
        "\n",
        ">\n",
        "Principal Component Analysis (PCA) is a powerful technique often used in data analysis to simplify complex, high-dimensional datasets. It does this by reducing the number of variables, which makes the data easier to understand and interpret, while still preserving as much of the original information as possible. The core idea is to create new variables—called principal components—that are uncorrelated and capture the most variance in the dataset. These components are calculated through an ***eigenvalue/eigenvector*** problem, which essentially identifies the directions in the data where the most significant patterns or differences exist. PCA is particularly useful in areas like machine learning, image processing, and data visualization, where large datasets can overwhelm analysis. By focusing on the key components, it helps reveal the underlying structure of the data in a more accessible way."
      ]
    },
    {
      "cell_type": "markdown",
      "id": "taken-stranger",
      "metadata": {
        "papermill": {
          "duration": 0.026776,
          "end_time": "2021-07-02T01:56:13.883288",
          "exception": false,
          "start_time": "2021-07-02T01:56:13.856512",
          "status": "completed"
        },
        "tags": [],
        "id": "taken-stranger"
      },
      "source": [
        "**Eigen Vector Decomposition (EVD) - Eigen Values and Eigen Vectors**"
      ]
    },
    {
      "cell_type": "code",
      "execution_count": 1,
      "id": "connected-wichita",
      "metadata": {
        "papermill": {
          "duration": 1.148876,
          "end_time": "2021-07-02T01:56:15.128276",
          "exception": false,
          "start_time": "2021-07-02T01:56:13.979400",
          "status": "completed"
        },
        "tags": [],
        "id": "connected-wichita"
      },
      "outputs": [],
      "source": [
        "import pandas as pd\n",
        "import numpy as np\n",
        "import matplotlib.pyplot as plt\n",
        "from sklearn.decomposition import PCA\n",
        "from sklearn.preprocessing import StandardScaler\n",
        "%matplotlib inline"
      ]
    },
    {
      "cell_type": "code",
      "execution_count": 2,
      "id": "north-sailing",
      "metadata": {
        "papermill": {
          "duration": 0.759444,
          "end_time": "2021-07-02T01:56:15.970465",
          "exception": false,
          "start_time": "2021-07-02T01:56:15.211021",
          "status": "completed"
        },
        "tags": [],
        "colab": {
          "base_uri": "https://localhost:8080/"
        },
        "id": "north-sailing",
        "outputId": "4050800f-db6f-4f3c-e56e-2e4440571f58"
      },
      "outputs": [
        {
          "output_type": "execute_result",
          "data": {
            "text/plain": [
              "Index(['Id', 'SepalLengthCm', 'SepalWidthCm', 'PetalLengthCm', 'PetalWidthCm',\n",
              "       'Species'],\n",
              "      dtype='object')"
            ]
          },
          "metadata": {},
          "execution_count": 2
        }
      ],
      "source": [
        "df = pd.read_csv('iris.csv')\n",
        "df.columns"
      ]
    },
    {
      "cell_type": "code",
      "source": [
        "df.columns=['Id', 'SepalLengthCm', 'SepalWidthCm', 'PetalLengthCm', 'PetalWidthCm', 'Species']"
      ],
      "metadata": {
        "id": "qHMiAHZLpkE7"
      },
      "id": "qHMiAHZLpkE7",
      "execution_count": 3,
      "outputs": []
    },
    {
      "cell_type": "code",
      "source": [
        "df.head()"
      ],
      "metadata": {
        "colab": {
          "base_uri": "https://localhost:8080/",
          "height": 206
        },
        "id": "dJwzrfwsqcZZ",
        "outputId": "198e2c74-55fb-4cf0-d465-d891c2601994"
      },
      "id": "dJwzrfwsqcZZ",
      "execution_count": 4,
      "outputs": [
        {
          "output_type": "execute_result",
          "data": {
            "text/plain": [
              "   Id  SepalLengthCm  SepalWidthCm  PetalLengthCm  PetalWidthCm      Species\n",
              "0   1            5.1           3.5            1.4           0.2  Iris-setosa\n",
              "1   2            4.9           3.0            1.4           0.2  Iris-setosa\n",
              "2   3            4.7           3.2            1.3           0.2  Iris-setosa\n",
              "3   4            4.6           3.1            1.5           0.2  Iris-setosa\n",
              "4   5            5.0           3.6            1.4           0.2  Iris-setosa"
            ],
            "text/html": [
              "\n",
              "  <div id=\"df-7e0af02e-da09-47d8-bee3-e73fce2719a2\" class=\"colab-df-container\">\n",
              "    <div>\n",
              "<style scoped>\n",
              "    .dataframe tbody tr th:only-of-type {\n",
              "        vertical-align: middle;\n",
              "    }\n",
              "\n",
              "    .dataframe tbody tr th {\n",
              "        vertical-align: top;\n",
              "    }\n",
              "\n",
              "    .dataframe thead th {\n",
              "        text-align: right;\n",
              "    }\n",
              "</style>\n",
              "<table border=\"1\" class=\"dataframe\">\n",
              "  <thead>\n",
              "    <tr style=\"text-align: right;\">\n",
              "      <th></th>\n",
              "      <th>Id</th>\n",
              "      <th>SepalLengthCm</th>\n",
              "      <th>SepalWidthCm</th>\n",
              "      <th>PetalLengthCm</th>\n",
              "      <th>PetalWidthCm</th>\n",
              "      <th>Species</th>\n",
              "    </tr>\n",
              "  </thead>\n",
              "  <tbody>\n",
              "    <tr>\n",
              "      <th>0</th>\n",
              "      <td>1</td>\n",
              "      <td>5.1</td>\n",
              "      <td>3.5</td>\n",
              "      <td>1.4</td>\n",
              "      <td>0.2</td>\n",
              "      <td>Iris-setosa</td>\n",
              "    </tr>\n",
              "    <tr>\n",
              "      <th>1</th>\n",
              "      <td>2</td>\n",
              "      <td>4.9</td>\n",
              "      <td>3.0</td>\n",
              "      <td>1.4</td>\n",
              "      <td>0.2</td>\n",
              "      <td>Iris-setosa</td>\n",
              "    </tr>\n",
              "    <tr>\n",
              "      <th>2</th>\n",
              "      <td>3</td>\n",
              "      <td>4.7</td>\n",
              "      <td>3.2</td>\n",
              "      <td>1.3</td>\n",
              "      <td>0.2</td>\n",
              "      <td>Iris-setosa</td>\n",
              "    </tr>\n",
              "    <tr>\n",
              "      <th>3</th>\n",
              "      <td>4</td>\n",
              "      <td>4.6</td>\n",
              "      <td>3.1</td>\n",
              "      <td>1.5</td>\n",
              "      <td>0.2</td>\n",
              "      <td>Iris-setosa</td>\n",
              "    </tr>\n",
              "    <tr>\n",
              "      <th>4</th>\n",
              "      <td>5</td>\n",
              "      <td>5.0</td>\n",
              "      <td>3.6</td>\n",
              "      <td>1.4</td>\n",
              "      <td>0.2</td>\n",
              "      <td>Iris-setosa</td>\n",
              "    </tr>\n",
              "  </tbody>\n",
              "</table>\n",
              "</div>\n",
              "    <div class=\"colab-df-buttons\">\n",
              "\n",
              "  <div class=\"colab-df-container\">\n",
              "    <button class=\"colab-df-convert\" onclick=\"convertToInteractive('df-7e0af02e-da09-47d8-bee3-e73fce2719a2')\"\n",
              "            title=\"Convert this dataframe to an interactive table.\"\n",
              "            style=\"display:none;\">\n",
              "\n",
              "  <svg xmlns=\"http://www.w3.org/2000/svg\" height=\"24px\" viewBox=\"0 -960 960 960\">\n",
              "    <path d=\"M120-120v-720h720v720H120Zm60-500h600v-160H180v160Zm220 220h160v-160H400v160Zm0 220h160v-160H400v160ZM180-400h160v-160H180v160Zm440 0h160v-160H620v160ZM180-180h160v-160H180v160Zm440 0h160v-160H620v160Z\"/>\n",
              "  </svg>\n",
              "    </button>\n",
              "\n",
              "  <style>\n",
              "    .colab-df-container {\n",
              "      display:flex;\n",
              "      gap: 12px;\n",
              "    }\n",
              "\n",
              "    .colab-df-convert {\n",
              "      background-color: #E8F0FE;\n",
              "      border: none;\n",
              "      border-radius: 50%;\n",
              "      cursor: pointer;\n",
              "      display: none;\n",
              "      fill: #1967D2;\n",
              "      height: 32px;\n",
              "      padding: 0 0 0 0;\n",
              "      width: 32px;\n",
              "    }\n",
              "\n",
              "    .colab-df-convert:hover {\n",
              "      background-color: #E2EBFA;\n",
              "      box-shadow: 0px 1px 2px rgba(60, 64, 67, 0.3), 0px 1px 3px 1px rgba(60, 64, 67, 0.15);\n",
              "      fill: #174EA6;\n",
              "    }\n",
              "\n",
              "    .colab-df-buttons div {\n",
              "      margin-bottom: 4px;\n",
              "    }\n",
              "\n",
              "    [theme=dark] .colab-df-convert {\n",
              "      background-color: #3B4455;\n",
              "      fill: #D2E3FC;\n",
              "    }\n",
              "\n",
              "    [theme=dark] .colab-df-convert:hover {\n",
              "      background-color: #434B5C;\n",
              "      box-shadow: 0px 1px 3px 1px rgba(0, 0, 0, 0.15);\n",
              "      filter: drop-shadow(0px 1px 2px rgba(0, 0, 0, 0.3));\n",
              "      fill: #FFFFFF;\n",
              "    }\n",
              "  </style>\n",
              "\n",
              "    <script>\n",
              "      const buttonEl =\n",
              "        document.querySelector('#df-7e0af02e-da09-47d8-bee3-e73fce2719a2 button.colab-df-convert');\n",
              "      buttonEl.style.display =\n",
              "        google.colab.kernel.accessAllowed ? 'block' : 'none';\n",
              "\n",
              "      async function convertToInteractive(key) {\n",
              "        const element = document.querySelector('#df-7e0af02e-da09-47d8-bee3-e73fce2719a2');\n",
              "        const dataTable =\n",
              "          await google.colab.kernel.invokeFunction('convertToInteractive',\n",
              "                                                    [key], {});\n",
              "        if (!dataTable) return;\n",
              "\n",
              "        const docLinkHtml = 'Like what you see? Visit the ' +\n",
              "          '<a target=\"_blank\" href=https://colab.research.google.com/notebooks/data_table.ipynb>data table notebook</a>'\n",
              "          + ' to learn more about interactive tables.';\n",
              "        element.innerHTML = '';\n",
              "        dataTable['output_type'] = 'display_data';\n",
              "        await google.colab.output.renderOutput(dataTable, element);\n",
              "        const docLink = document.createElement('div');\n",
              "        docLink.innerHTML = docLinkHtml;\n",
              "        element.appendChild(docLink);\n",
              "      }\n",
              "    </script>\n",
              "  </div>\n",
              "\n",
              "\n",
              "<div id=\"df-5e321b03-4cbc-4489-bf3a-e521ca43587b\">\n",
              "  <button class=\"colab-df-quickchart\" onclick=\"quickchart('df-5e321b03-4cbc-4489-bf3a-e521ca43587b')\"\n",
              "            title=\"Suggest charts\"\n",
              "            style=\"display:none;\">\n",
              "\n",
              "<svg xmlns=\"http://www.w3.org/2000/svg\" height=\"24px\"viewBox=\"0 0 24 24\"\n",
              "     width=\"24px\">\n",
              "    <g>\n",
              "        <path d=\"M19 3H5c-1.1 0-2 .9-2 2v14c0 1.1.9 2 2 2h14c1.1 0 2-.9 2-2V5c0-1.1-.9-2-2-2zM9 17H7v-7h2v7zm4 0h-2V7h2v10zm4 0h-2v-4h2v4z\"/>\n",
              "    </g>\n",
              "</svg>\n",
              "  </button>\n",
              "\n",
              "<style>\n",
              "  .colab-df-quickchart {\n",
              "      --bg-color: #E8F0FE;\n",
              "      --fill-color: #1967D2;\n",
              "      --hover-bg-color: #E2EBFA;\n",
              "      --hover-fill-color: #174EA6;\n",
              "      --disabled-fill-color: #AAA;\n",
              "      --disabled-bg-color: #DDD;\n",
              "  }\n",
              "\n",
              "  [theme=dark] .colab-df-quickchart {\n",
              "      --bg-color: #3B4455;\n",
              "      --fill-color: #D2E3FC;\n",
              "      --hover-bg-color: #434B5C;\n",
              "      --hover-fill-color: #FFFFFF;\n",
              "      --disabled-bg-color: #3B4455;\n",
              "      --disabled-fill-color: #666;\n",
              "  }\n",
              "\n",
              "  .colab-df-quickchart {\n",
              "    background-color: var(--bg-color);\n",
              "    border: none;\n",
              "    border-radius: 50%;\n",
              "    cursor: pointer;\n",
              "    display: none;\n",
              "    fill: var(--fill-color);\n",
              "    height: 32px;\n",
              "    padding: 0;\n",
              "    width: 32px;\n",
              "  }\n",
              "\n",
              "  .colab-df-quickchart:hover {\n",
              "    background-color: var(--hover-bg-color);\n",
              "    box-shadow: 0 1px 2px rgba(60, 64, 67, 0.3), 0 1px 3px 1px rgba(60, 64, 67, 0.15);\n",
              "    fill: var(--button-hover-fill-color);\n",
              "  }\n",
              "\n",
              "  .colab-df-quickchart-complete:disabled,\n",
              "  .colab-df-quickchart-complete:disabled:hover {\n",
              "    background-color: var(--disabled-bg-color);\n",
              "    fill: var(--disabled-fill-color);\n",
              "    box-shadow: none;\n",
              "  }\n",
              "\n",
              "  .colab-df-spinner {\n",
              "    border: 2px solid var(--fill-color);\n",
              "    border-color: transparent;\n",
              "    border-bottom-color: var(--fill-color);\n",
              "    animation:\n",
              "      spin 1s steps(1) infinite;\n",
              "  }\n",
              "\n",
              "  @keyframes spin {\n",
              "    0% {\n",
              "      border-color: transparent;\n",
              "      border-bottom-color: var(--fill-color);\n",
              "      border-left-color: var(--fill-color);\n",
              "    }\n",
              "    20% {\n",
              "      border-color: transparent;\n",
              "      border-left-color: var(--fill-color);\n",
              "      border-top-color: var(--fill-color);\n",
              "    }\n",
              "    30% {\n",
              "      border-color: transparent;\n",
              "      border-left-color: var(--fill-color);\n",
              "      border-top-color: var(--fill-color);\n",
              "      border-right-color: var(--fill-color);\n",
              "    }\n",
              "    40% {\n",
              "      border-color: transparent;\n",
              "      border-right-color: var(--fill-color);\n",
              "      border-top-color: var(--fill-color);\n",
              "    }\n",
              "    60% {\n",
              "      border-color: transparent;\n",
              "      border-right-color: var(--fill-color);\n",
              "    }\n",
              "    80% {\n",
              "      border-color: transparent;\n",
              "      border-right-color: var(--fill-color);\n",
              "      border-bottom-color: var(--fill-color);\n",
              "    }\n",
              "    90% {\n",
              "      border-color: transparent;\n",
              "      border-bottom-color: var(--fill-color);\n",
              "    }\n",
              "  }\n",
              "</style>\n",
              "\n",
              "  <script>\n",
              "    async function quickchart(key) {\n",
              "      const quickchartButtonEl =\n",
              "        document.querySelector('#' + key + ' button');\n",
              "      quickchartButtonEl.disabled = true;  // To prevent multiple clicks.\n",
              "      quickchartButtonEl.classList.add('colab-df-spinner');\n",
              "      try {\n",
              "        const charts = await google.colab.kernel.invokeFunction(\n",
              "            'suggestCharts', [key], {});\n",
              "      } catch (error) {\n",
              "        console.error('Error during call to suggestCharts:', error);\n",
              "      }\n",
              "      quickchartButtonEl.classList.remove('colab-df-spinner');\n",
              "      quickchartButtonEl.classList.add('colab-df-quickchart-complete');\n",
              "    }\n",
              "    (() => {\n",
              "      let quickchartButtonEl =\n",
              "        document.querySelector('#df-5e321b03-4cbc-4489-bf3a-e521ca43587b button');\n",
              "      quickchartButtonEl.style.display =\n",
              "        google.colab.kernel.accessAllowed ? 'block' : 'none';\n",
              "    })();\n",
              "  </script>\n",
              "</div>\n",
              "\n",
              "    </div>\n",
              "  </div>\n"
            ],
            "application/vnd.google.colaboratory.intrinsic+json": {
              "type": "dataframe",
              "variable_name": "df",
              "summary": "{\n  \"name\": \"df\",\n  \"rows\": 150,\n  \"fields\": [\n    {\n      \"column\": \"Id\",\n      \"properties\": {\n        \"dtype\": \"number\",\n        \"std\": 43,\n        \"min\": 1,\n        \"max\": 150,\n        \"num_unique_values\": 150,\n        \"samples\": [\n          74,\n          19,\n          119\n        ],\n        \"semantic_type\": \"\",\n        \"description\": \"\"\n      }\n    },\n    {\n      \"column\": \"SepalLengthCm\",\n      \"properties\": {\n        \"dtype\": \"number\",\n        \"std\": 0.8280661279778629,\n        \"min\": 4.3,\n        \"max\": 7.9,\n        \"num_unique_values\": 35,\n        \"samples\": [\n          6.2,\n          4.5,\n          5.6\n        ],\n        \"semantic_type\": \"\",\n        \"description\": \"\"\n      }\n    },\n    {\n      \"column\": \"SepalWidthCm\",\n      \"properties\": {\n        \"dtype\": \"number\",\n        \"std\": 0.4335943113621737,\n        \"min\": 2.0,\n        \"max\": 4.4,\n        \"num_unique_values\": 23,\n        \"samples\": [\n          2.3,\n          4.0,\n          3.5\n        ],\n        \"semantic_type\": \"\",\n        \"description\": \"\"\n      }\n    },\n    {\n      \"column\": \"PetalLengthCm\",\n      \"properties\": {\n        \"dtype\": \"number\",\n        \"std\": 1.7644204199522617,\n        \"min\": 1.0,\n        \"max\": 6.9,\n        \"num_unique_values\": 43,\n        \"samples\": [\n          6.7,\n          3.8,\n          3.7\n        ],\n        \"semantic_type\": \"\",\n        \"description\": \"\"\n      }\n    },\n    {\n      \"column\": \"PetalWidthCm\",\n      \"properties\": {\n        \"dtype\": \"number\",\n        \"std\": 0.7631607417008414,\n        \"min\": 0.1,\n        \"max\": 2.5,\n        \"num_unique_values\": 22,\n        \"samples\": [\n          0.2,\n          1.2,\n          1.3\n        ],\n        \"semantic_type\": \"\",\n        \"description\": \"\"\n      }\n    },\n    {\n      \"column\": \"Species\",\n      \"properties\": {\n        \"dtype\": \"category\",\n        \"num_unique_values\": 3,\n        \"samples\": [\n          \"Iris-setosa\",\n          \"Iris-versicolor\",\n          \"Iris-virginica\"\n        ],\n        \"semantic_type\": \"\",\n        \"description\": \"\"\n      }\n    }\n  ]\n}"
            }
          },
          "metadata": {},
          "execution_count": 4
        }
      ]
    },
    {
      "cell_type": "markdown",
      "source": [
        "**Scatter Plot**"
      ],
      "metadata": {
        "id": "FJGlnbW8nj0F"
      },
      "id": "FJGlnbW8nj0F"
    },
    {
      "cell_type": "code",
      "source": [
        "df.Species.unique()"
      ],
      "metadata": {
        "colab": {
          "base_uri": "https://localhost:8080/"
        },
        "id": "RzNz-wvZm1Cu",
        "outputId": "398dab0e-f1c7-40bc-d540-31cfc7466e2d"
      },
      "id": "RzNz-wvZm1Cu",
      "execution_count": 5,
      "outputs": [
        {
          "output_type": "execute_result",
          "data": {
            "text/plain": [
              "array(['Iris-setosa', 'Iris-versicolor', 'Iris-virginica'], dtype=object)"
            ]
          },
          "metadata": {},
          "execution_count": 5
        }
      ]
    },
    {
      "cell_type": "code",
      "source": [
        "df_setosa = df[df.Species == 'Iris-setosa']\n",
        "df_versicolor = df[df.Species == 'Iris-versicolor']\n",
        "df_virginica = df[df.Species == 'Iris-virginica']"
      ],
      "metadata": {
        "id": "-KlvlDptn3Rb"
      },
      "id": "-KlvlDptn3Rb",
      "execution_count": 6,
      "outputs": []
    },
    {
      "cell_type": "code",
      "source": [
        "plt.figure(figsize = (6,2))\n",
        "plt.scatter(df_setosa[\"SepalLengthCm\"], df_setosa[\"PetalLengthCm\"], color = \"black\", s = 15, alpha = 0.7, label = \"data_setosa\")\n",
        "plt.scatter(df_versicolor[\"SepalLengthCm\"], df_versicolor[\"PetalLengthCm\"], color = \"red\", s = 15, alpha = 0.7, label = \"data_versicolor\")\n",
        "plt.scatter(df_virginica[\"SepalLengthCm\"], df_virginica[\"PetalLengthCm\"], color = \"blue\", s = 15, alpha = 0.7, label = \"data_virginica\")\n",
        "plt.title(\"Iris Flower\")\n",
        "plt.xlabel(\"SepalLengthCm\")\n",
        "plt.ylabel(\"PetalLengthCm\")\n",
        "plt.grid(True)\n",
        "plt.legend()\n",
        "plt.show()"
      ],
      "metadata": {
        "colab": {
          "base_uri": "https://localhost:8080/",
          "height": 256
        },
        "id": "8qsI81UWoAMf",
        "outputId": "8d16cb26-9f78-4c58-fa1f-92b0e047264f"
      },
      "id": "8qsI81UWoAMf",
      "execution_count": 7,
      "outputs": [
        {
          "output_type": "display_data",
          "data": {
            "text/plain": [
              "<Figure size 600x200 with 1 Axes>"
            ],
            "image/png": "[encoded data removed]"
          },
          "metadata": {}
        }
      ]
    },
    {
      "cell_type": "code",
      "execution_count": 8,
      "id": "smart-techno",
      "metadata": {
        "papermill": {
          "duration": 0.041038,
          "end_time": "2021-07-02T01:56:16.038078",
          "exception": false,
          "start_time": "2021-07-02T01:56:15.997040",
          "status": "completed"
        },
        "tags": [],
        "colab": {
          "base_uri": "https://localhost:8080/"
        },
        "id": "smart-techno",
        "outputId": "d9560eaa-888a-4f4d-9d22-fa54a5de375f"
      },
      "outputs": [
        {
          "output_type": "stream",
          "name": "stdout",
          "text": [
            "False\n"
          ]
        }
      ],
      "source": [
        "print(df.isnull().values.any())"
      ]
    },
    {
      "cell_type": "code",
      "execution_count": 9,
      "id": "artificial-maple",
      "metadata": {
        "papermill": {
          "duration": 0.06079,
          "end_time": "2021-07-02T01:56:16.126588",
          "exception": false,
          "start_time": "2021-07-02T01:56:16.065798",
          "status": "completed"
        },
        "tags": [],
        "colab": {
          "base_uri": "https://localhost:8080/",
          "height": 206
        },
        "id": "artificial-maple",
        "outputId": "7f2e2fd9-1b8c-495b-d0a9-c72ae587d82b"
      },
      "outputs": [
        {
          "output_type": "execute_result",
          "data": {
            "text/plain": [
              "      Id  SepalLengthCm  SepalWidthCm  PetalLengthCm  PetalWidthCm  \\\n",
              "145  146            6.7           3.0            5.2           2.3   \n",
              "146  147            6.3           2.5            5.0           1.9   \n",
              "147  148            6.5           3.0            5.2           2.0   \n",
              "148  149            6.2           3.4            5.4           2.3   \n",
              "149  150            5.9           3.0            5.1           1.8   \n",
              "\n",
              "            Species  \n",
              "145  Iris-virginica  \n",
              "146  Iris-virginica  \n",
              "147  Iris-virginica  \n",
              "148  Iris-virginica  \n",
              "149  Iris-virginica  "
            ],
            "text/html": [
              "\n",
              "  <div id=\"df-a0fad5fb-8cde-4faa-b9d7-8214249ae40f\" class=\"colab-df-container\">\n",
              "    <div>\n",
              "<style scoped>\n",
              "    .dataframe tbody tr th:only-of-type {\n",
              "        vertical-align: middle;\n",
              "    }\n",
              "\n",
              "    .dataframe tbody tr th {\n",
              "        vertical-align: top;\n",
              "    }\n",
              "\n",
              "    .dataframe thead th {\n",
              "        text-align: right;\n",
              "    }\n",
              "</style>\n",
              "<table border=\"1\" class=\"dataframe\">\n",
              "  <thead>\n",
              "    <tr style=\"text-align: right;\">\n",
              "      <th></th>\n",
              "      <th>Id</th>\n",
              "      <th>SepalLengthCm</th>\n",
              "      <th>SepalWidthCm</th>\n",
              "      <th>PetalLengthCm</th>\n",
              "      <th>PetalWidthCm</th>\n",
              "      <th>Species</th>\n",
              "    </tr>\n",
              "  </thead>\n",
              "  <tbody>\n",
              "    <tr>\n",
              "      <th>145</th>\n",
              "      <td>146</td>\n",
              "      <td>6.7</td>\n",
              "      <td>3.0</td>\n",
              "      <td>5.2</td>\n",
              "      <td>2.3</td>\n",
              "      <td>Iris-virginica</td>\n",
              "    </tr>\n",
              "    <tr>\n",
              "      <th>146</th>\n",
              "      <td>147</td>\n",
              "      <td>6.3</td>\n",
              "      <td>2.5</td>\n",
              "      <td>5.0</td>\n",
              "      <td>1.9</td>\n",
              "      <td>Iris-virginica</td>\n",
              "    </tr>\n",
              "    <tr>\n",
              "      <th>147</th>\n",
              "      <td>148</td>\n",
              "      <td>6.5</td>\n",
              "      <td>3.0</td>\n",
              "      <td>5.2</td>\n",
              "      <td>2.0</td>\n",
              "      <td>Iris-virginica</td>\n",
              "    </tr>\n",
              "    <tr>\n",
              "      <th>148</th>\n",
              "      <td>149</td>\n",
              "      <td>6.2</td>\n",
              "      <td>3.4</td>\n",
              "      <td>5.4</td>\n",
              "      <td>2.3</td>\n",
              "      <td>Iris-virginica</td>\n",
              "    </tr>\n",
              "    <tr>\n",
              "      <th>149</th>\n",
              "      <td>150</td>\n",
              "      <td>5.9</td>\n",
              "      <td>3.0</td>\n",
              "      <td>5.1</td>\n",
              "      <td>1.8</td>\n",
              "      <td>Iris-virginica</td>\n",
              "    </tr>\n",
              "  </tbody>\n",
              "</table>\n",
              "</div>\n",
              "    <div class=\"colab-df-buttons\">\n",
              "\n",
              "  <div class=\"colab-df-container\">\n",
              "    <button class=\"colab-df-convert\" onclick=\"convertToInteractive('df-a0fad5fb-8cde-4faa-b9d7-8214249ae40f')\"\n",
              "            title=\"Convert this dataframe to an interactive table.\"\n",
              "            style=\"display:none;\">\n",
              "\n",
              "  <svg xmlns=\"http://www.w3.org/2000/svg\" height=\"24px\" viewBox=\"0 -960 960 960\">\n",
              "    <path d=\"M120-120v-720h720v720H120Zm60-500h600v-160H180v160Zm220 220h160v-160H400v160Zm0 220h160v-160H400v160ZM180-400h160v-160H180v160Zm440 0h160v-160H620v160ZM180-180h160v-160H180v160Zm440 0h160v-160H620v160Z\"/>\n",
              "  </svg>\n",
              "    </button>\n",
              "\n",
              "  <style>\n",
              "    .colab-df-container {\n",
              "      display:flex;\n",
              "      gap: 12px;\n",
              "    }\n",
              "\n",
              "    .colab-df-convert {\n",
              "      background-color: #E8F0FE;\n",
              "      border: none;\n",
              "      border-radius: 50%;\n",
              "      cursor: pointer;\n",
              "      display: none;\n",
              "      fill: #1967D2;\n",
              "      height: 32px;\n",
              "      padding: 0 0 0 0;\n",
              "      width: 32px;\n",
              "    }\n",
              "\n",
              "    .colab-df-convert:hover {\n",
              "      background-color: #E2EBFA;\n",
              "      box-shadow: 0px 1px 2px rgba(60, 64, 67, 0.3), 0px 1px 3px 1px rgba(60, 64, 67, 0.15);\n",
              "      fill: #174EA6;\n",
              "    }\n",
              "\n",
              "    .colab-df-buttons div {\n",
              "      margin-bottom: 4px;\n",
              "    }\n",
              "\n",
              "    [theme=dark] .colab-df-convert {\n",
              "      background-color: #3B4455;\n",
              "      fill: #D2E3FC;\n",
              "    }\n",
              "\n",
              "    [theme=dark] .colab-df-convert:hover {\n",
              "      background-color: #434B5C;\n",
              "      box-shadow: 0px 1px 3px 1px rgba(0, 0, 0, 0.15);\n",
              "      filter: drop-shadow(0px 1px 2px rgba(0, 0, 0, 0.3));\n",
              "      fill: #FFFFFF;\n",
              "    }\n",
              "  </style>\n",
              "\n",
              "    <script>\n",
              "      const buttonEl =\n",
              "        document.querySelector('#df-a0fad5fb-8cde-4faa-b9d7-8214249ae40f button.colab-df-convert');\n",
              "      buttonEl.style.display =\n",
              "        google.colab.kernel.accessAllowed ? 'block' : 'none';\n",
              "\n",
              "      async function convertToInteractive(key) {\n",
              "        const element = document.querySelector('#df-a0fad5fb-8cde-4faa-b9d7-8214249ae40f');\n",
              "        const dataTable =\n",
              "          await google.colab.kernel.invokeFunction('convertToInteractive',\n",
              "                                                    [key], {});\n",
              "        if (!dataTable) return;\n",
              "\n",
              "        const docLinkHtml = 'Like what you see? Visit the ' +\n",
              "          '<a target=\"_blank\" href=https://colab.research.google.com/notebooks/data_table.ipynb>data table notebook</a>'\n",
              "          + ' to learn more about interactive tables.';\n",
              "        element.innerHTML = '';\n",
              "        dataTable['output_type'] = 'display_data';\n",
              "        await google.colab.output.renderOutput(dataTable, element);\n",
              "        const docLink = document.createElement('div');\n",
              "        docLink.innerHTML = docLinkHtml;\n",
              "        element.appendChild(docLink);\n",
              "      }\n",
              "    </script>\n",
              "  </div>\n",
              "\n",
              "\n",
              "<div id=\"df-da7378b6-e4d6-4e52-a9c5-f77b12f6eae6\">\n",
              "  <button class=\"colab-df-quickchart\" onclick=\"quickchart('df-da7378b6-e4d6-4e52-a9c5-f77b12f6eae6')\"\n",
              "            title=\"Suggest charts\"\n",
              "            style=\"display:none;\">\n",
              "\n",
              "<svg xmlns=\"http://www.w3.org/2000/svg\" height=\"24px\"viewBox=\"0 0 24 24\"\n",
              "     width=\"24px\">\n",
              "    <g>\n",
              "        <path d=\"M19 3H5c-1.1 0-2 .9-2 2v14c0 1.1.9 2 2 2h14c1.1 0 2-.9 2-2V5c0-1.1-.9-2-2-2zM9 17H7v-7h2v7zm4 0h-2V7h2v10zm4 0h-2v-4h2v4z\"/>\n",
              "    </g>\n",
              "</svg>\n",
              "  </button>\n",
              "\n",
              "<style>\n",
              "  .colab-df-quickchart {\n",
              "      --bg-color: #E8F0FE;\n",
              "      --fill-color: #1967D2;\n",
              "      --hover-bg-color: #E2EBFA;\n",
              "      --hover-fill-color: #174EA6;\n",
              "      --disabled-fill-color: #AAA;\n",
              "      --disabled-bg-color: #DDD;\n",
              "  }\n",
              "\n",
              "  [theme=dark] .colab-df-quickchart {\n",
              "      --bg-color: #3B4455;\n",
              "      --fill-color: #D2E3FC;\n",
              "      --hover-bg-color: #434B5C;\n",
              "      --hover-fill-color: #FFFFFF;\n",
              "      --disabled-bg-color: #3B4455;\n",
              "      --disabled-fill-color: #666;\n",
              "  }\n",
              "\n",
              "  .colab-df-quickchart {\n",
              "    background-color: var(--bg-color);\n",
              "    border: none;\n",
              "    border-radius: 50%;\n",
              "    cursor: pointer;\n",
              "    display: none;\n",
              "    fill: var(--fill-color);\n",
              "    height: 32px;\n",
              "    padding: 0;\n",
              "    width: 32px;\n",
              "  }\n",
              "\n",
              "  .colab-df-quickchart:hover {\n",
              "    background-color: var(--hover-bg-color);\n",
              "    box-shadow: 0 1px 2px rgba(60, 64, 67, 0.3), 0 1px 3px 1px rgba(60, 64, 67, 0.15);\n",
              "    fill: var(--button-hover-fill-color);\n",
              "  }\n",
              "\n",
              "  .colab-df-quickchart-complete:disabled,\n",
              "  .colab-df-quickchart-complete:disabled:hover {\n",
              "    background-color: var(--disabled-bg-color);\n",
              "    fill: var(--disabled-fill-color);\n",
              "    box-shadow: none;\n",
              "  }\n",
              "\n",
              "  .colab-df-spinner {\n",
              "    border: 2px solid var(--fill-color);\n",
              "    border-color: transparent;\n",
              "    border-bottom-color: var(--fill-color);\n",
              "    animation:\n",
              "      spin 1s steps(1) infinite;\n",
              "  }\n",
              "\n",
              "  @keyframes spin {\n",
              "    0% {\n",
              "      border-color: transparent;\n",
              "      border-bottom-color: var(--fill-color);\n",
              "      border-left-color: var(--fill-color);\n",
              "    }\n",
              "    20% {\n",
              "      border-color: transparent;\n",
              "      border-left-color: var(--fill-color);\n",
              "      border-top-color: var(--fill-color);\n",
              "    }\n",
              "    30% {\n",
              "      border-color: transparent;\n",
              "      border-left-color: var(--fill-color);\n",
              "      border-top-color: var(--fill-color);\n",
              "      border-right-color: var(--fill-color);\n",
              "    }\n",
              "    40% {\n",
              "      border-color: transparent;\n",
              "      border-right-color: var(--fill-color);\n",
              "      border-top-color: var(--fill-color);\n",
              "    }\n",
              "    60% {\n",
              "      border-color: transparent;\n",
              "      border-right-color: var(--fill-color);\n",
              "    }\n",
              "    80% {\n",
              "      border-color: transparent;\n",
              "      border-right-color: var(--fill-color);\n",
              "      border-bottom-color: var(--fill-color);\n",
              "    }\n",
              "    90% {\n",
              "      border-color: transparent;\n",
              "      border-bottom-color: var(--fill-color);\n",
              "    }\n",
              "  }\n",
              "</style>\n",
              "\n",
              "  <script>\n",
              "    async function quickchart(key) {\n",
              "      const quickchartButtonEl =\n",
              "        document.querySelector('#' + key + ' button');\n",
              "      quickchartButtonEl.disabled = true;  // To prevent multiple clicks.\n",
              "      quickchartButtonEl.classList.add('colab-df-spinner');\n",
              "      try {\n",
              "        const charts = await google.colab.kernel.invokeFunction(\n",
              "            'suggestCharts', [key], {});\n",
              "      } catch (error) {\n",
              "        console.error('Error during call to suggestCharts:', error);\n",
              "      }\n",
              "      quickchartButtonEl.classList.remove('colab-df-spinner');\n",
              "      quickchartButtonEl.classList.add('colab-df-quickchart-complete');\n",
              "    }\n",
              "    (() => {\n",
              "      let quickchartButtonEl =\n",
              "        document.querySelector('#df-da7378b6-e4d6-4e52-a9c5-f77b12f6eae6 button');\n",
              "      quickchartButtonEl.style.display =\n",
              "        google.colab.kernel.accessAllowed ? 'block' : 'none';\n",
              "    })();\n",
              "  </script>\n",
              "</div>\n",
              "\n",
              "    </div>\n",
              "  </div>\n"
            ],
            "application/vnd.google.colaboratory.intrinsic+json": {
              "type": "dataframe",
              "summary": "{\n  \"name\": \"df\",\n  \"rows\": 5,\n  \"fields\": [\n    {\n      \"column\": \"Id\",\n      \"properties\": {\n        \"dtype\": \"number\",\n        \"std\": 1,\n        \"min\": 146,\n        \"max\": 150,\n        \"num_unique_values\": 5,\n        \"samples\": [\n          147,\n          150,\n          148\n        ],\n        \"semantic_type\": \"\",\n        \"description\": \"\"\n      }\n    },\n    {\n      \"column\": \"SepalLengthCm\",\n      \"properties\": {\n        \"dtype\": \"number\",\n        \"std\": 0.30331501776206193,\n        \"min\": 5.9,\n        \"max\": 6.7,\n        \"num_unique_values\": 5,\n        \"samples\": [\n          6.3,\n          5.9,\n          6.5\n        ],\n        \"semantic_type\": \"\",\n        \"description\": \"\"\n      }\n    },\n    {\n      \"column\": \"SepalWidthCm\",\n      \"properties\": {\n        \"dtype\": \"number\",\n        \"std\": 0.31937438845342625,\n        \"min\": 2.5,\n        \"max\": 3.4,\n        \"num_unique_values\": 3,\n        \"samples\": [\n          3.0,\n          2.5,\n          3.4\n        ],\n        \"semantic_type\": \"\",\n        \"description\": \"\"\n      }\n    },\n    {\n      \"column\": \"PetalLengthCm\",\n      \"properties\": {\n        \"dtype\": \"number\",\n        \"std\": 0.14832396974191348,\n        \"min\": 5.0,\n        \"max\": 5.4,\n        \"num_unique_values\": 4,\n        \"samples\": [\n          5.0,\n          5.1,\n          5.2\n        ],\n        \"semantic_type\": \"\",\n        \"description\": \"\"\n      }\n    },\n    {\n      \"column\": \"PetalWidthCm\",\n      \"properties\": {\n        \"dtype\": \"number\",\n        \"std\": 0.23021728866442667,\n        \"min\": 1.8,\n        \"max\": 2.3,\n        \"num_unique_values\": 4,\n        \"samples\": [\n          1.9,\n          1.8,\n          2.3\n        ],\n        \"semantic_type\": \"\",\n        \"description\": \"\"\n      }\n    },\n    {\n      \"column\": \"Species\",\n      \"properties\": {\n        \"dtype\": \"category\",\n        \"num_unique_values\": 1,\n        \"samples\": [\n          \"Iris-virginica\"\n        ],\n        \"semantic_type\": \"\",\n        \"description\": \"\"\n      }\n    }\n  ]\n}"
            }
          },
          "metadata": {},
          "execution_count": 9
        }
      ],
      "source": [
        "df.tail()"
      ]
    },
    {
      "cell_type": "code",
      "source": [
        "df = df.drop(columns=['Id'])"
      ],
      "metadata": {
        "id": "94Y896TlrGW5"
      },
      "id": "94Y896TlrGW5",
      "execution_count": 10,
      "outputs": []
    },
    {
      "cell_type": "markdown",
      "source": [
        "**Boxplot**"
      ],
      "metadata": {
        "id": "6uKbA8mMzcnL"
      },
      "id": "6uKbA8mMzcnL"
    },
    {
      "cell_type": "code",
      "execution_count": 11,
      "id": "minus-richards",
      "metadata": {
        "_kg_hide-output": false,
        "papermill": {
          "duration": 1.153364,
          "end_time": "2021-07-02T01:56:17.308142",
          "exception": false,
          "start_time": "2021-07-02T01:56:16.154778",
          "status": "completed"
        },
        "tags": [],
        "colab": {
          "base_uri": "https://localhost:8080/",
          "height": 1000
        },
        "id": "minus-richards",
        "outputId": "f9ac2226-2fb3-41ae-d066-398e554156c9"
      },
      "outputs": [
        {
          "output_type": "execute_result",
          "data": {
            "text/plain": [
              "array([[<Axes: title={'center': 'PetalLengthCm'}, xlabel='[Species]'>,\n",
              "        <Axes: title={'center': 'PetalWidthCm'}, xlabel='[Species]'>],\n",
              "       [<Axes: title={'center': 'SepalLengthCm'}, xlabel='[Species]'>,\n",
              "        <Axes: title={'center': 'SepalWidthCm'}, xlabel='[Species]'>]],\n",
              "      dtype=object)"
            ]
          },
          "metadata": {},
          "execution_count": 11
        },
        {
          "output_type": "display_data",
          "data": {
            "text/plain": [
              "<Figure size 1400x1400 with 4 Axes>"
            ],
            "image/png": "[encoded data removed]"
          },
          "metadata": {}
        }
      ],
      "source": [
        "df.boxplot(by=\"Species\", layout=(2, 2), figsize=(14, 14))"
      ]
    },
    {
      "cell_type": "markdown",
      "id": "heavy-algeria",
      "metadata": {
        "papermill": {
          "duration": 0.029316,
          "end_time": "2021-07-02T01:56:17.366961",
          "exception": false,
          "start_time": "2021-07-02T01:56:17.337645",
          "status": "completed"
        },
        "tags": [],
        "id": "heavy-algeria"
      },
      "source": [
        "The boxplots reveal several insights, including that virginica has the largest median petal length. The data also contains only a few outliers."
      ]
    },
    {
      "cell_type": "code",
      "execution_count": 12,
      "id": "amazing-witness",
      "metadata": {
        "papermill": {
          "duration": 0.036804,
          "end_time": "2021-07-02T01:56:17.432879",
          "exception": false,
          "start_time": "2021-07-02T01:56:17.396075",
          "status": "completed"
        },
        "tags": [],
        "id": "amazing-witness"
      },
      "outputs": [],
      "source": [
        "X = df.iloc[:,0:4].values\n",
        "y = df.iloc[:,4].values"
      ]
    },
    {
      "cell_type": "code",
      "execution_count": 13,
      "id": "creative-sense",
      "metadata": {
        "papermill": {
          "duration": 0.038686,
          "end_time": "2021-07-02T01:56:17.502497",
          "exception": false,
          "start_time": "2021-07-02T01:56:17.463811",
          "status": "completed"
        },
        "tags": [],
        "id": "creative-sense"
      },
      "outputs": [],
      "source": [
        "X.shape, y.shape;"
      ]
    },
    {
      "cell_type": "markdown",
      "id": "quality-producer",
      "metadata": {
        "papermill": {
          "duration": 0.031141,
          "end_time": "2021-07-02T01:56:17.563386",
          "exception": false,
          "start_time": "2021-07-02T01:56:17.532245",
          "status": "completed"
        },
        "tags": [],
        "id": "quality-producer"
      },
      "source": [
        "\n",
        "Each row of the matrix, denoted as **𝑥**, can be thought of as a **4-dimensional vector**, which encapsulates the values for the four features for a single flower sample. As illustrated in the above screenshot of the **𝑥** output values, this transformation helps to visualize the data more effectively in a higher-dimensional space, aiding in further analysis like dimensionality reduction and pattern recognition."
      ]
    },
    {
      "cell_type": "markdown",
      "id": "naval-premium",
      "metadata": {
        "papermill": {
          "duration": 0.030983,
          "end_time": "2021-07-02T01:56:17.685013",
          "exception": false,
          "start_time": "2021-07-02T01:56:17.654030",
          "status": "completed"
        },
        "tags": [],
        "id": "naval-premium"
      },
      "source": [
        "# **Standardization data:**\n",
        "\n",
        "When the features of a dataset have different measurement scales, it's important to standardize the data, ensuring that all features have a mean of 0 and variance of 1.\n",
        "\n",
        "Standardization is especially important before performing PCA, as PCA is very sensitive to the variance in the data. If there are large differences in the feature scales, the features with larger ranges will have a greater influence, overshadowing those with smaller ranges.\n",
        "\n",
        "\n",
        "![standardization-1.png](data:image/png;base64,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)"
      ]
    },
    {
      "cell_type": "code",
      "execution_count": 14,
      "id": "continued-creation",
      "metadata": {
        "papermill": {
          "duration": 0.038266,
          "end_time": "2021-07-02T01:56:17.753321",
          "exception": false,
          "start_time": "2021-07-02T01:56:17.715055",
          "status": "completed"
        },
        "tags": [],
        "id": "continued-creation"
      },
      "outputs": [],
      "source": [
        "X_standardized = StandardScaler().fit_transform(X)"
      ]
    },
    {
      "cell_type": "markdown",
      "id": "compatible-orientation",
      "metadata": {
        "papermill": {
          "duration": 0.029815,
          "end_time": "2021-07-02T01:56:17.941285",
          "exception": false,
          "start_time": "2021-07-02T01:56:17.911470",
          "status": "completed"
        },
        "tags": [],
        "id": "compatible-orientation"
      },
      "source": [
        "# Eigen Values and Eigen Vectors:"
      ]
    },
    {
      "cell_type": "code",
      "execution_count": 15,
      "id": "great-chemistry",
      "metadata": {
        "papermill": {
          "duration": 0.056282,
          "end_time": "2021-07-02T01:56:18.028802",
          "exception": false,
          "start_time": "2021-07-02T01:56:17.972520",
          "status": "completed"
        },
        "tags": [],
        "colab": {
          "base_uri": "https://localhost:8080/"
        },
        "id": "great-chemistry",
        "outputId": "c966759b-a9d1-4d8b-f759-d552f0794c82"
      },
      "outputs": [
        {
          "output_type": "stream",
          "name": "stdout",
          "text": [
            "Eigenvectors \n",
            "[[ 1.00671141 -0.11010327  0.87760486  0.82344326]\n",
            " [-0.11010327  1.00671141 -0.42333835 -0.358937  ]\n",
            " [ 0.87760486 -0.42333835  1.00671141  0.96921855]\n",
            " [ 0.82344326 -0.358937    0.96921855  1.00671141]]\n",
            "Eigenvectors \n",
            "[[ 0.52237162 -0.37231836 -0.72101681  0.26199559]\n",
            " [-0.26335492 -0.92555649  0.24203288 -0.12413481]\n",
            " [ 0.58125401 -0.02109478  0.14089226 -0.80115427]\n",
            " [ 0.56561105 -0.06541577  0.6338014   0.52354627]]\n",
            "Eigenvalues \n",
            "[2.93035378 0.92740362 0.14834223 0.02074601]\n"
          ]
        }
      ],
      "source": [
        "# Covariance Matrix\n",
        "covariance_matrix = np.cov(X_standardized.T)\n",
        "eig_vals, eig_vecs = np.linalg.eig(covariance_matrix)\n",
        "print('Eigenvectors \\n%s' %covariance_matrix)\n",
        "print('Eigenvectors \\n%s' %eig_vecs)\n",
        "print('Eigenvalues \\n%s' %eig_vals)"
      ]
    },
    {
      "cell_type": "markdown",
      "source": [
        "**Heatmap**"
      ],
      "metadata": {
        "id": "8fJYK5O4Tw-o"
      },
      "id": "8fJYK5O4Tw-o"
    },
    {
      "cell_type": "code",
      "source": [
        "import seaborn as sns\n",
        "\n",
        "plt.figure(figsize=(6, 5))\n",
        "sns.heatmap(covariance_matrix, annot=True, cmap='coolwarm', fmt=\".2f\")\n",
        "plt.title(\"Heatmap of the Covariance Matrix\")\n",
        "plt.show()"
      ],
      "metadata": {
        "colab": {
          "base_uri": "https://localhost:8080/",
          "height": 468
        },
        "id": "Z11jJvRlRbIF",
        "outputId": "c3aae431-df7a-4455-961f-d3eec183c1ba"
      },
      "id": "Z11jJvRlRbIF",
      "execution_count": 16,
      "outputs": [
        {
          "output_type": "display_data",
          "data": {
            "text/plain": [
              "<Figure size 600x500 with 2 Axes>"
            ],
            "image/png": "[encoded data removed]"
          },
          "metadata": {}
        }
      ]
    },
    {
      "cell_type": "markdown",
      "id": "pregnant-advocacy",
      "metadata": {
        "papermill": {
          "duration": 0.031173,
          "end_time": "2021-07-02T01:56:18.091338",
          "exception": false,
          "start_time": "2021-07-02T01:56:18.060165",
          "status": "completed"
        },
        "tags": [],
        "id": "pregnant-advocacy"
      },
      "source": [
        "## Eigen Vectors verification:\n",
        "\n",
        "The sum of the squares of each value in an Eigenvector should equal 1. Let's verify this to confirm that we have computed the Eigenvectors correctly."
      ]
    },
    {
      "cell_type": "code",
      "execution_count": 17,
      "id": "efficient-actress",
      "metadata": {
        "execution": {
          "iopub.execute_input": "2021-07-02T01:56:18.156496Z",
          "iopub.status.busy": "2021-07-02T01:56:18.155840Z",
          "iopub.status.idle": "2021-07-02T01:56:18.164944Z",
          "shell.execute_reply": "2021-07-02T01:56:18.165397Z",
          "shell.execute_reply.started": "2021-07-02T01:54:55.869437Z"
        },
        "papermill": {
          "duration": 0.043493,
          "end_time": "2021-07-02T01:56:18.165597",
          "exception": false,
          "start_time": "2021-07-02T01:56:18.122104",
          "status": "completed"
        },
        "tags": [],
        "colab": {
          "base_uri": "https://localhost:8080/"
        },
        "id": "efficient-actress",
        "outputId": "87381a64-3f16-412e-9126-6aa11a38ea56"
      },
      "outputs": [
        {
          "output_type": "stream",
          "name": "stdout",
          "text": [
            "[array([0.27287211, 0.13862096, 0.51986524, 0.06864169]), array([0.06935581, 0.85665482, 0.05857991, 0.01540945]), array([3.37856219e-01, 4.44989610e-04, 1.98506285e-02, 6.41848163e-01]), array([0.31991586, 0.00427922, 0.40170422, 0.2741007 ])]\n"
          ]
        }
      ],
      "source": [
        "square_eig = [vec**2 for vec in eig_vecs]\n",
        "\n",
        "print(square_eig)"
      ]
    },
    {
      "cell_type": "code",
      "source": [
        "sum_of_squares = np.sum(square_eig, axis=0)\n",
        "print(f\"\\nSum of squares of each eigenvector component: \\n{sum_of_squares}\")\n",
        "\n",
        "# Performing a check to confirm the norm (magnitude) of each eigenvector is 1\n",
        "for eigenvector in eig_vecs:\n",
        "    np.testing.assert_array_almost_equal(1.0, np.linalg.norm(eigenvector))"
      ],
      "metadata": {
        "colab": {
          "base_uri": "https://localhost:8080/"
        },
        "id": "KQmkg9s3tG-A",
        "outputId": "02e0d14e-3b63-42f0-c248-b1c2030464ba"
      },
      "id": "KQmkg9s3tG-A",
      "execution_count": 18,
      "outputs": [
        {
          "output_type": "stream",
          "name": "stdout",
          "text": [
            "\n",
            "Sum of squares of each eigenvector component: \n",
            "[1. 1. 1. 1.]\n"
          ]
        }
      ]
    },
    {
      "cell_type": "code",
      "source": [
        "origin = np.zeros((2,2))  # Starting point\n",
        "plt.figure(figsize=(6, 6))\n",
        "\n",
        "plt.quiver(*origin, eig_vecs[0, :2], eig_vecs[1, :2], color=['r', 'b'], angles='xy', scale_units='xy', scale=1)\n",
        "plt.xlim(-1, 1)\n",
        "plt.ylim(-1, 1)\n",
        "plt.axhline(0, color='grey', linestyle='--', linewidth=0.5)\n",
        "plt.axvline(0, color='grey', linestyle='--', linewidth=0.5)\n",
        "plt.grid(True)\n",
        "plt.title(\"Visualization of Eigenvector Directions\")\n",
        "plt.xlabel(\"Feature 1\")\n",
        "plt.ylabel(\"Feature 2\")\n",
        "plt.show()\n"
      ],
      "metadata": {
        "colab": {
          "base_uri": "https://localhost:8080/",
          "height": 564
        },
        "id": "D5djYlfXR2p6",
        "outputId": "022236c8-0cd9-4180-bba6-cbac4b001a2d"
      },
      "id": "D5djYlfXR2p6",
      "execution_count": 19,
      "outputs": [
        {
          "output_type": "display_data",
          "data": {
            "text/plain": [
              "<Figure size 600x600 with 1 Axes>"
            ],
            "image/png": "[encoded data removed]"
          },
          "metadata": {}
        }
      ]
    },
    {
      "cell_type": "markdown",
      "source": [
        "# Selecting the K Principal Components:\n",
        "\n",
        "The basic rule is to sort the eigenvalues in descending order and then pick the top k features that correspond to the largest eigenvalues.\n",
        "The idea behind this is that by choosing the top k, we are assuming that the variance associated with those k components is enough to represent the dataset. Ignoring the variance from the remaining components doesn't significantly impact the accuracy, or the loss in accuracy due to the ignored variance is acceptable. This decision depends on the specific problem and business case. There's no perfect rule to follow; it should be based on the context."
      ],
      "metadata": {
        "id": "kD-wTCQsxz6r"
      },
      "id": "kD-wTCQsxz6r"
    },
    {
      "cell_type": "code",
      "source": [
        "eig_pairs = [(np.abs(eig_vals[i]), eig_vecs[:,i]) for i in range(len(eig_vals))]\n",
        "print(f\"Type of eig_pairs: {type(eig_pairs)}\")\n",
        "\n",
        "eig_pairs.sort(key=lambda x: x[0], reverse=True)\n",
        "print(\"\\nEigen Pairs Sorted:\\n\", eig_pairs)\n",
        "\n",
        "# Display eigenvalues in descending order and store sorted values and vectors\n",
        "print('\\nEigenvalues in descending order:')\n",
        "sorted_eigen_values = [pair[0] for pair in eig_pairs]\n",
        "sorted_eigen_vectors = [list(pair[1]) for pair in eig_pairs]\n",
        "\n",
        "# Print sorted eigenvalues\n",
        "for eigenvalue in sorted_eigen_values:\n",
        "    print(eigenvalue)\n",
        "\n",
        "sorted_eigen_vectors"
      ],
      "metadata": {
        "colab": {
          "base_uri": "https://localhost:8080/"
        },
        "id": "yGUM5JU4Z1BT",
        "outputId": "348f9107-1efc-43f0-fe2a-0d5557cb472d"
      },
      "id": "yGUM5JU4Z1BT",
      "execution_count": 20,
      "outputs": [
        {
          "output_type": "stream",
          "name": "stdout",
          "text": [
            "Type of eig_pairs: <class 'list'>\n",
            "\n",
            "Eigen Pairs Sorted:\n",
            " [(2.930353775589317, array([ 0.52237162, -0.26335492,  0.58125401,  0.56561105])), (0.9274036215173419, array([-0.37231836, -0.92555649, -0.02109478, -0.06541577])), (0.14834222648163944, array([-0.72101681,  0.24203288,  0.14089226,  0.6338014 ])), (0.02074601399559593, array([ 0.26199559, -0.12413481, -0.80115427,  0.52354627]))]\n",
            "\n",
            "Eigenvalues in descending order:\n",
            "2.930353775589317\n",
            "0.9274036215173419\n",
            "0.14834222648163944\n",
            "0.02074601399559593\n"
          ]
        },
        {
          "output_type": "execute_result",
          "data": {
            "text/plain": [
              "[[0.5223716204076599,\n",
              "  -0.2633549153139403,\n",
              "  0.5812540055976477,\n",
              "  0.5656110498826491],\n",
              " [-0.3723183633499689,\n",
              "  -0.9255564941472946,\n",
              "  -0.021094776841246433,\n",
              "  -0.06541576907892797],\n",
              " [-0.7210168090620422,\n",
              "  0.24203287721394123,\n",
              "  0.14089225848754092,\n",
              "  0.633801403355824],\n",
              " [0.2619955868999825,\n",
              "  -0.1241348100626826,\n",
              "  -0.8011542690799242,\n",
              "  0.5235462716041895]]"
            ]
          },
          "metadata": {},
          "execution_count": 20
        }
      ]
    },
    {
      "cell_type": "markdown",
      "source": [
        "This code first creates a list of tuples, where each tuple contains an absolute eigenvalue and its corresponding eigenvector. It then sorts these tuples in descending order based on the eigenvalues, ensuring that the most significant components come first. After sorting, it extracts the sorted eigenvalues and eigenvectors into separate lists. Finally, it prints the eigenvalues in descending order to confirm the correct sorting. This approach is commonly used in Principal Component Analysis (PCA) to prioritize the most important features in the dataset."
      ],
      "metadata": {
        "id": "1sgnkwO1cy40"
      },
      "id": "1sgnkwO1cy40"
    },
    {
      "cell_type": "code",
      "source": [
        "plt.figure(figsize=(6, 4))\n",
        "plt.bar(range(1, len(eig_vals) + 1), sorted_eigen_values, color='purple', alpha=0.7)\n",
        "plt.xlabel(\"Component\")\n",
        "plt.ylabel(\"Eigenvalue\")\n",
        "plt.title(\"Eigenvalue Distribution\")\n",
        "plt.grid(True)\n",
        "plt.show()"
      ],
      "metadata": {
        "colab": {
          "base_uri": "https://localhost:8080/",
          "height": 410
        },
        "id": "PlK1HWvPPDBe",
        "outputId": "62832610-4c3c-45af-d7d2-cbe7da61d1b7"
      },
      "id": "PlK1HWvPPDBe",
      "execution_count": 21,
      "outputs": [
        {
          "output_type": "display_data",
          "data": {
            "text/plain": [
              "<Figure size 600x400 with 1 Axes>"
            ],
            "image/png": "[encoded data removed]"
          },
          "metadata": {}
        }
      ]
    },
    {
      "cell_type": "markdown",
      "id": "vietnamese-civilian",
      "metadata": {
        "papermill": {
          "duration": 0.031853,
          "end_time": "2021-07-02T01:56:18.371842",
          "exception": false,
          "start_time": "2021-07-02T01:56:18.339989",
          "status": "completed"
        },
        "tags": [],
        "id": "vietnamese-civilian"
      },
      "source": [
        "## Explained Variance :\n",
        "\n",
        "Explained variance is a key metric derived from eigenvalues that helps us understand how much of the total information (variance) in the dataset is captured by each principal component. In other words, it indicates the contribution of each principal component in representing the overall structure of the data. The higher the explained variance of a component, the more significant it is in preserving the original data’s characteristics."
      ]
    },
    {
      "cell_type": "code",
      "execution_count": 22,
      "id": "generic-swing",
      "metadata": {
        "execution": {
          "iopub.execute_input": "2021-07-02T01:56:18.444270Z",
          "iopub.status.busy": "2021-07-02T01:56:18.443037Z",
          "iopub.status.idle": "2021-07-02T01:56:18.448048Z",
          "shell.execute_reply": "2021-07-02T01:56:18.448552Z",
          "shell.execute_reply.started": "2021-07-02T01:54:55.900229Z"
        },
        "papermill": {
          "duration": 0.045581,
          "end_time": "2021-07-02T01:56:18.448735",
          "exception": false,
          "start_time": "2021-07-02T01:56:18.403154",
          "status": "completed"
        },
        "tags": [],
        "colab": {
          "base_uri": "https://localhost:8080/"
        },
        "id": "generic-swing",
        "outputId": "d825edb3-515b-4c7a-a823-91e720419378"
      },
      "outputs": [
        {
          "output_type": "stream",
          "name": "stdout",
          "text": [
            "4.026845637583894\n",
            "\n",
            "1. Variance Explained: [72.77045209380135, 23.03052326768065, 3.683831957627379, 0.5151926808906321]\n",
            "\n",
            "2. Cumulative Variance Explained: [ 72.77045209  95.80097536  99.48480732 100.        ]\n",
            "\n",
            "3. Percentage of variance explained by the first two components: [72.77045209380135, 23.03052326768065]\n",
            "\n",
            "4. Total variance explained by the first two components: 95.800975361482\n"
          ]
        }
      ],
      "source": [
        "# Determine the eigenvalues' total sum.\n",
        "total_eigenvalue = sum(eig_vals)\n",
        "print(total_eigenvalue)\n",
        "\n",
        "# Determine the percentage of variance that each eigenvalue\n",
        "explained_variance = [(i / total_eigenvalue) * 100 for i in sorted(eig_vals, reverse=True)]\n",
        "print(\"\\n1. Variance Explained:\", explained_variance)\n",
        "\n",
        "# Calculate cumulative explained variance across the principal components\n",
        "cumulative_variance = np.cumsum(explained_variance)\n",
        "print(\"\\n2. Cumulative Variance Explained:\", cumulative_variance)\n",
        "print(\"\\n3. Percentage of variance explained by the first two components:\", explained_variance[0:2])\n",
        "print(\"\\n4. Total variance explained by the first two components:\", sum(explained_variance[0:2]))\n"
      ]
    },
    {
      "cell_type": "code",
      "source": [
        "component_range = range(1, len(cumulative_variance) + 1)\n",
        "plt.plot(component_range, cumulative_variance, marker='o', linestyle='--', color='r')\n",
        "\n",
        "plt.xlabel(\"Number of Principal Components\", fontsize=12)\n",
        "plt.ylabel(\"Cumulative Variance Explained (%)\", fontsize=12)\n",
        "plt.xticks(component_range)\n",
        "plt.xlim(1, len(cumulative_variance))\n",
        "plt.title(\"Cumulative Explained Variance by Principal Components\", fontsize=14)\n",
        "plt.grid(True)\n",
        "plt.show()"
      ],
      "metadata": {
        "colab": {
          "base_uri": "https://localhost:8080/",
          "height": 477
        },
        "id": "Hh0eLR5pwic0",
        "outputId": "c76d239e-026b-44ab-d5f3-331f4159c694"
      },
      "id": "Hh0eLR5pwic0",
      "execution_count": 23,
      "outputs": [
        {
          "output_type": "display_data",
          "data": {
            "text/plain": [
              "<Figure size 640x480 with 1 Axes>"
            ],
            "image/png": "[encoded data removed]"
          },
          "metadata": {}
        }
      ]
    },
    {
      "cell_type": "markdown",
      "id": "overhead-budapest",
      "metadata": {
        "papermill": {
          "duration": 0.032206,
          "end_time": "2021-07-02T01:56:18.719279",
          "exception": false,
          "start_time": "2021-07-02T01:56:18.687073",
          "status": "completed"
        },
        "tags": [],
        "id": "overhead-budapest"
      },
      "source": [
        "From the plot, it is clear that more than 95% of the total variance is explained by the first two principal components. As a result, selecting these two largest components to form the projection matrix\n",
        "**𝑊** is a reasonable choice."
      ]
    },
    {
      "cell_type": "markdown",
      "id": "standard-stamp",
      "metadata": {
        "papermill": {
          "duration": 0.033886,
          "end_time": "2021-07-02T01:56:18.785623",
          "exception": false,
          "start_time": "2021-07-02T01:56:18.751737",
          "status": "completed"
        },
        "tags": [],
        "id": "standard-stamp"
      },
      "source": [
        "## W from the selected k eigenvectors:\n",
        "\n",
        "The projection matrix **W**   is created by selecting the top **𝑘** eigenvectors. This matrix is used to map the original Iris data into a new subspace with fewer dimensions.\n",
        "\n",
        "The projection matrix consists of the eigenvectors that were selected.\n",
        "In this scenario, we reduce the 4-dimensional feature space to a 2-dimensional one by picking the two eigenvectors with the largest eigenvalues. The resulting matrix W is a **𝑑×𝑘**-dimensional matrix, where **𝑑** is the number of features and **𝑘** is the number of selected eigenvectors.\n",
        "\n"
      ]
    },
    {
      "cell_type": "code",
      "execution_count": 24,
      "id": "abandoned-survivor",
      "metadata": {
        "execution": {
          "iopub.execute_input": "2021-07-02T01:56:18.858832Z",
          "iopub.status.busy": "2021-07-02T01:56:18.857969Z",
          "iopub.status.idle": "2021-07-02T01:56:18.862469Z",
          "shell.execute_reply": "2021-07-02T01:56:18.861784Z",
          "shell.execute_reply.started": "2021-07-02T01:54:56.051117Z"
        },
        "papermill": {
          "duration": 0.043697,
          "end_time": "2021-07-02T01:56:18.862728",
          "exception": false,
          "start_time": "2021-07-02T01:56:18.819031",
          "status": "completed"
        },
        "tags": [],
        "id": "abandoned-survivor",
        "outputId": "ce61c332-a06a-43b9-c112-5b4cef427f25",
        "colab": {
          "base_uri": "https://localhost:8080/"
        }
      },
      "outputs": [
        {
          "output_type": "stream",
          "name": "stdout",
          "text": [
            "First Eigenvector: [ 0.52237162 -0.26335492  0.58125401  0.56561105]\n",
            "Second Eigenvector: [-0.37231836 -0.92555649 -0.02109478 -0.06541577]\n",
            "\n",
            "Projection Matrix W:\n",
            " [[ 0.52237162 -0.37231836]\n",
            " [-0.26335492 -0.92555649]\n",
            " [ 0.58125401 -0.02109478]\n",
            " [ 0.56561105 -0.06541577]]\n"
          ]
        }
      ],
      "source": [
        "print(\"First Eigenvector:\", eig_pairs[0][1])\n",
        "print(\"Second Eigenvector:\", eig_pairs[1][1])\n",
        "\n",
        "# Creating the projection matrix by stacking the top 2 eigenvectors\n",
        "matrix_W = np.hstack((eig_pairs[0][1].reshape(4,1), eig_pairs[1][1].reshape(4,1)))\n",
        "print(\"\\nProjection Matrix W:\\n\", matrix_W)"
      ]
    },
    {
      "cell_type": "markdown",
      "id": "shared-catalog",
      "metadata": {
        "papermill": {
          "duration": 0.033141,
          "end_time": "2021-07-02T01:56:18.929547",
          "exception": false,
          "start_time": "2021-07-02T01:56:18.896406",
          "status": "completed"
        },
        "tags": [],
        "id": "shared-catalog"
      },
      "source": [
        "## Projecting the data onto the new feature space (2D)"
      ]
    },
    {
      "cell_type": "code",
      "source": [
        "Y = X_standardized.dot(matrix_W)\n",
        "principal_components = pd.DataFrame(data=Y, columns=['PC1', 'PC2'])\n",
        "principal_components.head()"
      ],
      "metadata": {
        "colab": {
          "base_uri": "https://localhost:8080/",
          "height": 206
        },
        "id": "X1WsPEqAw6-P",
        "outputId": "d66d8007-8a20-45b7-fee2-0b985c88ef9e"
      },
      "id": "X1WsPEqAw6-P",
      "execution_count": 25,
      "outputs": [
        {
          "output_type": "execute_result",
          "data": {
            "text/plain": [
              "        PC1       PC2\n",
              "0 -2.264542 -0.505704\n",
              "1 -2.086426  0.655405\n",
              "2 -2.367950  0.318477\n",
              "3 -2.304197  0.575368\n",
              "4 -2.388777 -0.674767"
            ],
            "text/html": [
              "\n",
              "  <div id=\"df-daaa5c81-321d-4c5d-a0fa-62a25fa234d3\" class=\"colab-df-container\">\n",
              "    <div>\n",
              "<style scoped>\n",
              "    .dataframe tbody tr th:only-of-type {\n",
              "        vertical-align: middle;\n",
              "    }\n",
              "\n",
              "    .dataframe tbody tr th {\n",
              "        vertical-align: top;\n",
              "    }\n",
              "\n",
              "    .dataframe thead th {\n",
              "        text-align: right;\n",
              "    }\n",
              "</style>\n",
              "<table border=\"1\" class=\"dataframe\">\n",
              "  <thead>\n",
              "    <tr style=\"text-align: right;\">\n",
              "      <th></th>\n",
              "      <th>PC1</th>\n",
              "      <th>PC2</th>\n",
              "    </tr>\n",
              "  </thead>\n",
              "  <tbody>\n",
              "    <tr>\n",
              "      <th>0</th>\n",
              "      <td>-2.264542</td>\n",
              "      <td>-0.505704</td>\n",
              "    </tr>\n",
              "    <tr>\n",
              "      <th>1</th>\n",
              "      <td>-2.086426</td>\n",
              "      <td>0.655405</td>\n",
              "    </tr>\n",
              "    <tr>\n",
              "      <th>2</th>\n",
              "      <td>-2.367950</td>\n",
              "      <td>0.318477</td>\n",
              "    </tr>\n",
              "    <tr>\n",
              "      <th>3</th>\n",
              "      <td>-2.304197</td>\n",
              "      <td>0.575368</td>\n",
              "    </tr>\n",
              "    <tr>\n",
              "      <th>4</th>\n",
              "      <td>-2.388777</td>\n",
              "      <td>-0.674767</td>\n",
              "    </tr>\n",
              "  </tbody>\n",
              "</table>\n",
              "</div>\n",
              "    <div class=\"colab-df-buttons\">\n",
              "\n",
              "  <div class=\"colab-df-container\">\n",
              "    <button class=\"colab-df-convert\" onclick=\"convertToInteractive('df-daaa5c81-321d-4c5d-a0fa-62a25fa234d3')\"\n",
              "            title=\"Convert this dataframe to an interactive table.\"\n",
              "            style=\"display:none;\">\n",
              "\n",
              "  <svg xmlns=\"http://www.w3.org/2000/svg\" height=\"24px\" viewBox=\"0 -960 960 960\">\n",
              "    <path d=\"M120-120v-720h720v720H120Zm60-500h600v-160H180v160Zm220 220h160v-160H400v160Zm0 220h160v-160H400v160ZM180-400h160v-160H180v160Zm440 0h160v-160H620v160ZM180-180h160v-160H180v160Zm440 0h160v-160H620v160Z\"/>\n",
              "  </svg>\n",
              "    </button>\n",
              "\n",
              "  <style>\n",
              "    .colab-df-container {\n",
              "      display:flex;\n",
              "      gap: 12px;\n",
              "    }\n",
              "\n",
              "    .colab-df-convert {\n",
              "      background-color: #E8F0FE;\n",
              "      border: none;\n",
              "      border-radius: 50%;\n",
              "      cursor: pointer;\n",
              "      display: none;\n",
              "      fill: #1967D2;\n",
              "      height: 32px;\n",
              "      padding: 0 0 0 0;\n",
              "      width: 32px;\n",
              "    }\n",
              "\n",
              "    .colab-df-convert:hover {\n",
              "      background-color: #E2EBFA;\n",
              "      box-shadow: 0px 1px 2px rgba(60, 64, 67, 0.3), 0px 1px 3px 1px rgba(60, 64, 67, 0.15);\n",
              "      fill: #174EA6;\n",
              "    }\n",
              "\n",
              "    .colab-df-buttons div {\n",
              "      margin-bottom: 4px;\n",
              "    }\n",
              "\n",
              "    [theme=dark] .colab-df-convert {\n",
              "      background-color: #3B4455;\n",
              "      fill: #D2E3FC;\n",
              "    }\n",
              "\n",
              "    [theme=dark] .colab-df-convert:hover {\n",
              "      background-color: #434B5C;\n",
              "      box-shadow: 0px 1px 3px 1px rgba(0, 0, 0, 0.15);\n",
              "      filter: drop-shadow(0px 1px 2px rgba(0, 0, 0, 0.3));\n",
              "      fill: #FFFFFF;\n",
              "    }\n",
              "  </style>\n",
              "\n",
              "    <script>\n",
              "      const buttonEl =\n",
              "        document.querySelector('#df-daaa5c81-321d-4c5d-a0fa-62a25fa234d3 button.colab-df-convert');\n",
              "      buttonEl.style.display =\n",
              "        google.colab.kernel.accessAllowed ? 'block' : 'none';\n",
              "\n",
              "      async function convertToInteractive(key) {\n",
              "        const element = document.querySelector('#df-daaa5c81-321d-4c5d-a0fa-62a25fa234d3');\n",
              "        const dataTable =\n",
              "          await google.colab.kernel.invokeFunction('convertToInteractive',\n",
              "                                                    [key], {});\n",
              "        if (!dataTable) return;\n",
              "\n",
              "        const docLinkHtml = 'Like what you see? Visit the ' +\n",
              "          '<a target=\"_blank\" href=https://colab.research.google.com/notebooks/data_table.ipynb>data table notebook</a>'\n",
              "          + ' to learn more about interactive tables.';\n",
              "        element.innerHTML = '';\n",
              "        dataTable['output_type'] = 'display_data';\n",
              "        await google.colab.output.renderOutput(dataTable, element);\n",
              "        const docLink = document.createElement('div');\n",
              "        docLink.innerHTML = docLinkHtml;\n",
              "        element.appendChild(docLink);\n",
              "      }\n",
              "    </script>\n",
              "  </div>\n",
              "\n",
              "\n",
              "<div id=\"df-21a77504-321d-4c2c-b6b8-fd1ea7484188\">\n",
              "  <button class=\"colab-df-quickchart\" onclick=\"quickchart('df-21a77504-321d-4c2c-b6b8-fd1ea7484188')\"\n",
              "            title=\"Suggest charts\"\n",
              "            style=\"display:none;\">\n",
              "\n",
              "<svg xmlns=\"http://www.w3.org/2000/svg\" height=\"24px\"viewBox=\"0 0 24 24\"\n",
              "     width=\"24px\">\n",
              "    <g>\n",
              "        <path d=\"M19 3H5c-1.1 0-2 .9-2 2v14c0 1.1.9 2 2 2h14c1.1 0 2-.9 2-2V5c0-1.1-.9-2-2-2zM9 17H7v-7h2v7zm4 0h-2V7h2v10zm4 0h-2v-4h2v4z\"/>\n",
              "    </g>\n",
              "</svg>\n",
              "  </button>\n",
              "\n",
              "<style>\n",
              "  .colab-df-quickchart {\n",
              "      --bg-color: #E8F0FE;\n",
              "      --fill-color: #1967D2;\n",
              "      --hover-bg-color: #E2EBFA;\n",
              "      --hover-fill-color: #174EA6;\n",
              "      --disabled-fill-color: #AAA;\n",
              "      --disabled-bg-color: #DDD;\n",
              "  }\n",
              "\n",
              "  [theme=dark] .colab-df-quickchart {\n",
              "      --bg-color: #3B4455;\n",
              "      --fill-color: #D2E3FC;\n",
              "      --hover-bg-color: #434B5C;\n",
              "      --hover-fill-color: #FFFFFF;\n",
              "      --disabled-bg-color: #3B4455;\n",
              "      --disabled-fill-color: #666;\n",
              "  }\n",
              "\n",
              "  .colab-df-quickchart {\n",
              "    background-color: var(--bg-color);\n",
              "    border: none;\n",
              "    border-radius: 50%;\n",
              "    cursor: pointer;\n",
              "    display: none;\n",
              "    fill: var(--fill-color);\n",
              "    height: 32px;\n",
              "    padding: 0;\n",
              "    width: 32px;\n",
              "  }\n",
              "\n",
              "  .colab-df-quickchart:hover {\n",
              "    background-color: var(--hover-bg-color);\n",
              "    box-shadow: 0 1px 2px rgba(60, 64, 67, 0.3), 0 1px 3px 1px rgba(60, 64, 67, 0.15);\n",
              "    fill: var(--button-hover-fill-color);\n",
              "  }\n",
              "\n",
              "  .colab-df-quickchart-complete:disabled,\n",
              "  .colab-df-quickchart-complete:disabled:hover {\n",
              "    background-color: var(--disabled-bg-color);\n",
              "    fill: var(--disabled-fill-color);\n",
              "    box-shadow: none;\n",
              "  }\n",
              "\n",
              "  .colab-df-spinner {\n",
              "    border: 2px solid var(--fill-color);\n",
              "    border-color: transparent;\n",
              "    border-bottom-color: var(--fill-color);\n",
              "    animation:\n",
              "      spin 1s steps(1) infinite;\n",
              "  }\n",
              "\n",
              "  @keyframes spin {\n",
              "    0% {\n",
              "      border-color: transparent;\n",
              "      border-bottom-color: var(--fill-color);\n",
              "      border-left-color: var(--fill-color);\n",
              "    }\n",
              "    20% {\n",
              "      border-color: transparent;\n",
              "      border-left-color: var(--fill-color);\n",
              "      border-top-color: var(--fill-color);\n",
              "    }\n",
              "    30% {\n",
              "      border-color: transparent;\n",
              "      border-left-color: var(--fill-color);\n",
              "      border-top-color: var(--fill-color);\n",
              "      border-right-color: var(--fill-color);\n",
              "    }\n",
              "    40% {\n",
              "      border-color: transparent;\n",
              "      border-right-color: var(--fill-color);\n",
              "      border-top-color: var(--fill-color);\n",
              "    }\n",
              "    60% {\n",
              "      border-color: transparent;\n",
              "      border-right-color: var(--fill-color);\n",
              "    }\n",
              "    80% {\n",
              "      border-color: transparent;\n",
              "      border-right-color: var(--fill-color);\n",
              "      border-bottom-color: var(--fill-color);\n",
              "    }\n",
              "    90% {\n",
              "      border-color: transparent;\n",
              "      border-bottom-color: var(--fill-color);\n",
              "    }\n",
              "  }\n",
              "</style>\n",
              "\n",
              "  <script>\n",
              "    async function quickchart(key) {\n",
              "      const quickchartButtonEl =\n",
              "        document.querySelector('#' + key + ' button');\n",
              "      quickchartButtonEl.disabled = true;  // To prevent multiple clicks.\n",
              "      quickchartButtonEl.classList.add('colab-df-spinner');\n",
              "      try {\n",
              "        const charts = await google.colab.kernel.invokeFunction(\n",
              "            'suggestCharts', [key], {});\n",
              "      } catch (error) {\n",
              "        console.error('Error during call to suggestCharts:', error);\n",
              "      }\n",
              "      quickchartButtonEl.classList.remove('colab-df-spinner');\n",
              "      quickchartButtonEl.classList.add('colab-df-quickchart-complete');\n",
              "    }\n",
              "    (() => {\n",
              "      let quickchartButtonEl =\n",
              "        document.querySelector('#df-21a77504-321d-4c2c-b6b8-fd1ea7484188 button');\n",
              "      quickchartButtonEl.style.display =\n",
              "        google.colab.kernel.accessAllowed ? 'block' : 'none';\n",
              "    })();\n",
              "  </script>\n",
              "</div>\n",
              "\n",
              "    </div>\n",
              "  </div>\n"
            ],
            "application/vnd.google.colaboratory.intrinsic+json": {
              "type": "dataframe",
              "variable_name": "principal_components",
              "summary": "{\n  \"name\": \"principal_components\",\n  \"rows\": 150,\n  \"fields\": [\n    {\n      \"column\": \"PC1\",\n      \"properties\": {\n        \"dtype\": \"number\",\n        \"std\": 1.7118276126962417,\n        \"min\": -2.7741697937051564,\n        \"max\": 3.3091411826760786,\n        \"num_unique_values\": 147,\n        \"samples\": [\n          1.0197810528162627,\n          0.39730728282332817,\n          2.0161572006777586\n        ],\n        \"semantic_type\": \"\",\n        \"description\": \"\"\n      }\n    },\n    {\n      \"column\": \"PC2\",\n      \"properties\": {\n        \"dtype\": \"number\",\n        \"std\": 0.9630179756979313,\n        \"min\": -2.722371076574469,\n        \"max\": 2.658062677961761,\n        \"num_unique_values\": 147,\n        \"samples\": [\n          -0.06554296309664723,\n          1.758168947443527,\n          -0.6103970375551119\n        ],\n        \"semantic_type\": \"\",\n        \"description\": \"\"\n      }\n    }\n  ]\n}"
            }
          },
          "metadata": {},
          "execution_count": 25
        }
      ]
    },
    {
      "cell_type": "markdown",
      "id": "southwest-palmer",
      "metadata": {
        "papermill": {
          "duration": 0.034597,
          "end_time": "2021-07-02T01:56:19.082454",
          "exception": false,
          "start_time": "2021-07-02T01:56:19.047857",
          "status": "completed"
        },
        "tags": [],
        "id": "southwest-palmer"
      },
      "source": [
        "Combining the principal components with the target labels (species)\n",
        "\n",
        "---\n",
        "\n",
        "\n"
      ]
    },
    {
      "cell_type": "code",
      "execution_count": 26,
      "id": "listed-request",
      "metadata": {
        "execution": {
          "iopub.execute_input": "2021-07-02T01:56:19.165054Z",
          "iopub.status.busy": "2021-07-02T01:56:19.164180Z",
          "iopub.status.idle": "2021-07-02T01:56:19.169154Z",
          "shell.execute_reply": "2021-07-02T01:56:19.168604Z",
          "shell.execute_reply.started": "2021-07-02T01:54:56.080210Z"
        },
        "papermill": {
          "duration": 0.0522,
          "end_time": "2021-07-02T01:56:19.169306",
          "exception": false,
          "start_time": "2021-07-02T01:56:19.117106",
          "status": "completed"
        },
        "tags": [],
        "id": "listed-request",
        "outputId": "016dbb5c-c60e-4ca0-f9cf-f348ed9ab77a",
        "colab": {
          "base_uri": "https://localhost:8080/",
          "height": 206
        }
      },
      "outputs": [
        {
          "output_type": "execute_result",
          "data": {
            "text/plain": [
              "        PC1       PC2      species\n",
              "0 -2.264542 -0.505704  Iris-setosa\n",
              "1 -2.086426  0.655405  Iris-setosa\n",
              "2 -2.367950  0.318477  Iris-setosa\n",
              "3 -2.304197  0.575368  Iris-setosa\n",
              "4 -2.388777 -0.674767  Iris-setosa"
            ],
            "text/html": [
              "\n",
              "  <div id=\"df-b7ecd2a9-9e25-441f-a729-99e82636c378\" class=\"colab-df-container\">\n",
              "    <div>\n",
              "<style scoped>\n",
              "    .dataframe tbody tr th:only-of-type {\n",
              "        vertical-align: middle;\n",
              "    }\n",
              "\n",
              "    .dataframe tbody tr th {\n",
              "        vertical-align: top;\n",
              "    }\n",
              "\n",
              "    .dataframe thead th {\n",
              "        text-align: right;\n",
              "    }\n",
              "</style>\n",
              "<table border=\"1\" class=\"dataframe\">\n",
              "  <thead>\n",
              "    <tr style=\"text-align: right;\">\n",
              "      <th></th>\n",
              "      <th>PC1</th>\n",
              "      <th>PC2</th>\n",
              "      <th>species</th>\n",
              "    </tr>\n",
              "  </thead>\n",
              "  <tbody>\n",
              "    <tr>\n",
              "      <th>0</th>\n",
              "      <td>-2.264542</td>\n",
              "      <td>-0.505704</td>\n",
              "      <td>Iris-setosa</td>\n",
              "    </tr>\n",
              "    <tr>\n",
              "      <th>1</th>\n",
              "      <td>-2.086426</td>\n",
              "      <td>0.655405</td>\n",
              "      <td>Iris-setosa</td>\n",
              "    </tr>\n",
              "    <tr>\n",
              "      <th>2</th>\n",
              "      <td>-2.367950</td>\n",
              "      <td>0.318477</td>\n",
              "      <td>Iris-setosa</td>\n",
              "    </tr>\n",
              "    <tr>\n",
              "      <th>3</th>\n",
              "      <td>-2.304197</td>\n",
              "      <td>0.575368</td>\n",
              "      <td>Iris-setosa</td>\n",
              "    </tr>\n",
              "    <tr>\n",
              "      <th>4</th>\n",
              "      <td>-2.388777</td>\n",
              "      <td>-0.674767</td>\n",
              "      <td>Iris-setosa</td>\n",
              "    </tr>\n",
              "  </tbody>\n",
              "</table>\n",
              "</div>\n",
              "    <div class=\"colab-df-buttons\">\n",
              "\n",
              "  <div class=\"colab-df-container\">\n",
              "    <button class=\"colab-df-convert\" onclick=\"convertToInteractive('df-b7ecd2a9-9e25-441f-a729-99e82636c378')\"\n",
              "            title=\"Convert this dataframe to an interactive table.\"\n",
              "            style=\"display:none;\">\n",
              "\n",
              "  <svg xmlns=\"http://www.w3.org/2000/svg\" height=\"24px\" viewBox=\"0 -960 960 960\">\n",
              "    <path d=\"M120-120v-720h720v720H120Zm60-500h600v-160H180v160Zm220 220h160v-160H400v160Zm0 220h160v-160H400v160ZM180-400h160v-160H180v160Zm440 0h160v-160H620v160ZM180-180h160v-160H180v160Zm440 0h160v-160H620v160Z\"/>\n",
              "  </svg>\n",
              "    </button>\n",
              "\n",
              "  <style>\n",
              "    .colab-df-container {\n",
              "      display:flex;\n",
              "      gap: 12px;\n",
              "    }\n",
              "\n",
              "    .colab-df-convert {\n",
              "      background-color: #E8F0FE;\n",
              "      border: none;\n",
              "      border-radius: 50%;\n",
              "      cursor: pointer;\n",
              "      display: none;\n",
              "      fill: #1967D2;\n",
              "      height: 32px;\n",
              "      padding: 0 0 0 0;\n",
              "      width: 32px;\n",
              "    }\n",
              "\n",
              "    .colab-df-convert:hover {\n",
              "      background-color: #E2EBFA;\n",
              "      box-shadow: 0px 1px 2px rgba(60, 64, 67, 0.3), 0px 1px 3px 1px rgba(60, 64, 67, 0.15);\n",
              "      fill: #174EA6;\n",
              "    }\n",
              "\n",
              "    .colab-df-buttons div {\n",
              "      margin-bottom: 4px;\n",
              "    }\n",
              "\n",
              "    [theme=dark] .colab-df-convert {\n",
              "      background-color: #3B4455;\n",
              "      fill: #D2E3FC;\n",
              "    }\n",
              "\n",
              "    [theme=dark] .colab-df-convert:hover {\n",
              "      background-color: #434B5C;\n",
              "      box-shadow: 0px 1px 3px 1px rgba(0, 0, 0, 0.15);\n",
              "      filter: drop-shadow(0px 1px 2px rgba(0, 0, 0, 0.3));\n",
              "      fill: #FFFFFF;\n",
              "    }\n",
              "  </style>\n",
              "\n",
              "    <script>\n",
              "      const buttonEl =\n",
              "        document.querySelector('#df-b7ecd2a9-9e25-441f-a729-99e82636c378 button.colab-df-convert');\n",
              "      buttonEl.style.display =\n",
              "        google.colab.kernel.accessAllowed ? 'block' : 'none';\n",
              "\n",
              "      async function convertToInteractive(key) {\n",
              "        const element = document.querySelector('#df-b7ecd2a9-9e25-441f-a729-99e82636c378');\n",
              "        const dataTable =\n",
              "          await google.colab.kernel.invokeFunction('convertToInteractive',\n",
              "                                                    [key], {});\n",
              "        if (!dataTable) return;\n",
              "\n",
              "        const docLinkHtml = 'Like what you see? Visit the ' +\n",
              "          '<a target=\"_blank\" href=https://colab.research.google.com/notebooks/data_table.ipynb>data table notebook</a>'\n",
              "          + ' to learn more about interactive tables.';\n",
              "        element.innerHTML = '';\n",
              "        dataTable['output_type'] = 'display_data';\n",
              "        await google.colab.output.renderOutput(dataTable, element);\n",
              "        const docLink = document.createElement('div');\n",
              "        docLink.innerHTML = docLinkHtml;\n",
              "        element.appendChild(docLink);\n",
              "      }\n",
              "    </script>\n",
              "  </div>\n",
              "\n",
              "\n",
              "<div id=\"df-8cb7c9b0-258b-4f7c-9546-0f4438c9668b\">\n",
              "  <button class=\"colab-df-quickchart\" onclick=\"quickchart('df-8cb7c9b0-258b-4f7c-9546-0f4438c9668b')\"\n",
              "            title=\"Suggest charts\"\n",
              "            style=\"display:none;\">\n",
              "\n",
              "<svg xmlns=\"http://www.w3.org/2000/svg\" height=\"24px\"viewBox=\"0 0 24 24\"\n",
              "     width=\"24px\">\n",
              "    <g>\n",
              "        <path d=\"M19 3H5c-1.1 0-2 .9-2 2v14c0 1.1.9 2 2 2h14c1.1 0 2-.9 2-2V5c0-1.1-.9-2-2-2zM9 17H7v-7h2v7zm4 0h-2V7h2v10zm4 0h-2v-4h2v4z\"/>\n",
              "    </g>\n",
              "</svg>\n",
              "  </button>\n",
              "\n",
              "<style>\n",
              "  .colab-df-quickchart {\n",
              "      --bg-color: #E8F0FE;\n",
              "      --fill-color: #1967D2;\n",
              "      --hover-bg-color: #E2EBFA;\n",
              "      --hover-fill-color: #174EA6;\n",
              "      --disabled-fill-color: #AAA;\n",
              "      --disabled-bg-color: #DDD;\n",
              "  }\n",
              "\n",
              "  [theme=dark] .colab-df-quickchart {\n",
              "      --bg-color: #3B4455;\n",
              "      --fill-color: #D2E3FC;\n",
              "      --hover-bg-color: #434B5C;\n",
              "      --hover-fill-color: #FFFFFF;\n",
              "      --disabled-bg-color: #3B4455;\n",
              "      --disabled-fill-color: #666;\n",
              "  }\n",
              "\n",
              "  .colab-df-quickchart {\n",
              "    background-color: var(--bg-color);\n",
              "    border: none;\n",
              "    border-radius: 50%;\n",
              "    cursor: pointer;\n",
              "    display: none;\n",
              "    fill: var(--fill-color);\n",
              "    height: 32px;\n",
              "    padding: 0;\n",
              "    width: 32px;\n",
              "  }\n",
              "\n",
              "  .colab-df-quickchart:hover {\n",
              "    background-color: var(--hover-bg-color);\n",
              "    box-shadow: 0 1px 2px rgba(60, 64, 67, 0.3), 0 1px 3px 1px rgba(60, 64, 67, 0.15);\n",
              "    fill: var(--button-hover-fill-color);\n",
              "  }\n",
              "\n",
              "  .colab-df-quickchart-complete:disabled,\n",
              "  .colab-df-quickchart-complete:disabled:hover {\n",
              "    background-color: var(--disabled-bg-color);\n",
              "    fill: var(--disabled-fill-color);\n",
              "    box-shadow: none;\n",
              "  }\n",
              "\n",
              "  .colab-df-spinner {\n",
              "    border: 2px solid var(--fill-color);\n",
              "    border-color: transparent;\n",
              "    border-bottom-color: var(--fill-color);\n",
              "    animation:\n",
              "      spin 1s steps(1) infinite;\n",
              "  }\n",
              "\n",
              "  @keyframes spin {\n",
              "    0% {\n",
              "      border-color: transparent;\n",
              "      border-bottom-color: var(--fill-color);\n",
              "      border-left-color: var(--fill-color);\n",
              "    }\n",
              "    20% {\n",
              "      border-color: transparent;\n",
              "      border-left-color: var(--fill-color);\n",
              "      border-top-color: var(--fill-color);\n",
              "    }\n",
              "    30% {\n",
              "      border-color: transparent;\n",
              "      border-left-color: var(--fill-color);\n",
              "      border-top-color: var(--fill-color);\n",
              "      border-right-color: var(--fill-color);\n",
              "    }\n",
              "    40% {\n",
              "      border-color: transparent;\n",
              "      border-right-color: var(--fill-color);\n",
              "      border-top-color: var(--fill-color);\n",
              "    }\n",
              "    60% {\n",
              "      border-color: transparent;\n",
              "      border-right-color: var(--fill-color);\n",
              "    }\n",
              "    80% {\n",
              "      border-color: transparent;\n",
              "      border-right-color: var(--fill-color);\n",
              "      border-bottom-color: var(--fill-color);\n",
              "    }\n",
              "    90% {\n",
              "      border-color: transparent;\n",
              "      border-bottom-color: var(--fill-color);\n",
              "    }\n",
              "  }\n",
              "</style>\n",
              "\n",
              "  <script>\n",
              "    async function quickchart(key) {\n",
              "      const quickchartButtonEl =\n",
              "        document.querySelector('#' + key + ' button');\n",
              "      quickchartButtonEl.disabled = true;  // To prevent multiple clicks.\n",
              "      quickchartButtonEl.classList.add('colab-df-spinner');\n",
              "      try {\n",
              "        const charts = await google.colab.kernel.invokeFunction(\n",
              "            'suggestCharts', [key], {});\n",
              "      } catch (error) {\n",
              "        console.error('Error during call to suggestCharts:', error);\n",
              "      }\n",
              "      quickchartButtonEl.classList.remove('colab-df-spinner');\n",
              "      quickchartButtonEl.classList.add('colab-df-quickchart-complete');\n",
              "    }\n",
              "    (() => {\n",
              "      let quickchartButtonEl =\n",
              "        document.querySelector('#df-8cb7c9b0-258b-4f7c-9546-0f4438c9668b button');\n",
              "      quickchartButtonEl.style.display =\n",
              "        google.colab.kernel.accessAllowed ? 'block' : 'none';\n",
              "    })();\n",
              "  </script>\n",
              "</div>\n",
              "\n",
              "    </div>\n",
              "  </div>\n"
            ],
            "application/vnd.google.colaboratory.intrinsic+json": {
              "type": "dataframe",
              "variable_name": "final_df",
              "summary": "{\n  \"name\": \"final_df\",\n  \"rows\": 150,\n  \"fields\": [\n    {\n      \"column\": \"PC1\",\n      \"properties\": {\n        \"dtype\": \"number\",\n        \"std\": 1.7118276126962417,\n        \"min\": -2.7741697937051564,\n        \"max\": 3.3091411826760786,\n        \"num_unique_values\": 147,\n        \"samples\": [\n          1.0197810528162627,\n          0.39730728282332817,\n          2.0161572006777586\n        ],\n        \"semantic_type\": \"\",\n        \"description\": \"\"\n      }\n    },\n    {\n      \"column\": \"PC2\",\n      \"properties\": {\n        \"dtype\": \"number\",\n        \"std\": 0.9630179756979313,\n        \"min\": -2.722371076574469,\n        \"max\": 2.658062677961761,\n        \"num_unique_values\": 147,\n        \"samples\": [\n          -0.06554296309664723,\n          1.758168947443527,\n          -0.6103970375551119\n        ],\n        \"semantic_type\": \"\",\n        \"description\": \"\"\n      }\n    },\n    {\n      \"column\": \"species\",\n      \"properties\": {\n        \"dtype\": \"category\",\n        \"num_unique_values\": 3,\n        \"samples\": [\n          \"Iris-setosa\",\n          \"Iris-versicolor\",\n          \"Iris-virginica\"\n        ],\n        \"semantic_type\": \"\",\n        \"description\": \"\"\n      }\n    }\n  ]\n}"
            }
          },
          "metadata": {},
          "execution_count": 26
        }
      ],
      "source": [
        "final_df = pd.concat([principal_components, pd.DataFrame(y, columns=['species'])], axis=1)\n",
        "final_df.head()"
      ]
    },
    {
      "cell_type": "markdown",
      "id": "organic-seeking",
      "metadata": {
        "papermill": {
          "duration": 0.035226,
          "end_time": "2021-07-02T01:56:19.239141",
          "exception": false,
          "start_time": "2021-07-02T01:56:19.203915",
          "status": "completed"
        },
        "tags": [],
        "id": "organic-seeking"
      },
      "source": [
        " Visualizing the data points in the new 2D feature space\n",
        "\n",
        "---\n",
        "\n"
      ]
    },
    {
      "cell_type": "code",
      "source": [
        "plt.figure(figsize=(8, 6))\n",
        "plt.title('PCA of Iris Dataset: 2 Principal Components', fontsize=15)\n",
        "plt.xlabel('Principal Component 1', fontsize=12)\n",
        "plt.ylabel('Principal Component 2', fontsize=12)\n",
        "\n",
        "# Mapping the species to different colors\n",
        "species = ['Iris-setosa', 'Iris-versicolor', 'Iris-virginica']\n",
        "color_map = {'Iris-setosa': 'black', 'Iris-versicolor': 'r', 'Iris-virginica': 'b'}\n",
        "\n",
        "for species_name in species:\n",
        "    subset = final_df[final_df['species'] == species_name]\n",
        "    plt.scatter(subset['PC1'], subset['PC2'], label=species_name, color=color_map[species_name], s=60)\n",
        "\n",
        "plt.legend(title=\"Species\")\n",
        "plt.grid(True)\n",
        "plt.show()"
      ],
      "metadata": {
        "colab": {
          "base_uri": "https://localhost:8080/",
          "height": 570
        },
        "id": "qbCtoSSDyPSk",
        "outputId": "b3e0545c-4f00-4218-91f5-b0409002e1c1"
      },
      "id": "qbCtoSSDyPSk",
      "execution_count": 27,
      "outputs": [
        {
          "output_type": "display_data",
          "data": {
            "text/plain": [
              "<Figure size 800x600 with 1 Axes>"
            ],
            "image/png": "[encoded data removed]"
          },
          "metadata": {}
        }
      ]
    }
  ],
  "metadata": {
    "kernelspec": {
      "display_name": "Python 3 (ipykernel)",
      "language": "python",
      "name": "python3"
    },
    "language_info": {
      "codemirror_mode": {
        "name": "ipython",
        "version": 3
      },
      "file_extension": ".py",
      "mimetype": "text/x-python",
      "name": "python",
      "nbconvert_exporter": "python",
      "pygments_lexer": "ipython3",
      "version": "3.11.5"
    },
    "papermill": {
      "default_parameters": {},
      "duration": 15.866398,
      "end_time": "2021-07-02T01:56:21.287968",
      "environment_variables": {},
      "exception": null,
      "input_path": "__notebook__.ipynb",
      "output_path": "__notebook__.ipynb",
      "parameters": {},
      "start_time": "2021-07-02T01:56:05.421570",
      "version": "2.3.3"
    },
    "colab": {
      "provenance": [],
      "include_colab_link": true
    }
  },
  "nbformat": 4,
  "nbformat_minor": 5
}